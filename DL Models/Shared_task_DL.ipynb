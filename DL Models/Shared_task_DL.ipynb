{
  "nbformat": 4,
  "nbformat_minor": 0,
  "metadata": {
    "colab": {
      "provenance": [],
      "gpuType": "T4"
    },
    "kernelspec": {
      "name": "python3",
      "display_name": "Python 3"
    },
    "language_info": {
      "name": "python"
    },
    "accelerator": "GPU"
  },
  "cells": [
    {
      "cell_type": "code",
      "source": [
        "from sklearn import preprocessing\n",
        "from sklearn.preprocessing import (StandardScaler, OrdinalEncoder,LabelEncoder, MinMaxScaler, OneHotEncoder)\n",
        "from sklearn.preprocessing import LabelBinarizer\n",
        "from sklearn.model_selection import train_test_split\n",
        "\n",
        "import pandas as pd\n",
        "import numpy as np\n",
        "import seaborn as sns\n",
        "import matplotlib.pyplot as plt\n",
        "import re\n",
        "import nltk\n",
        "import gensim\n",
        "import random\n",
        "from nltk.corpus import wordnet\n",
        "from imblearn.over_sampling import RandomOverSampler\n",
        "from sklearn.metrics import classification_report\n",
        "\n",
        "import tensorflow as tf\n",
        "import keras\n",
        "from keras.models import Model, Sequential\n",
        "from keras.regularizers import l2\n",
        "from tensorflow.keras.callbacks import EarlyStopping, ReduceLROnPlateau\n",
        "from keras.layers import Embedding, Dense, ReLU, Dropout, Add, GlobalAveragePooling1D, Conv1D, LSTM, BatchNormalization, Permute, Flatten, Input, Bidirectional, MultiHeadAttention, LayerNormalization, MaxPooling1D, GRU, Activation"
      ],
      "metadata": {
        "id": "xf1uAFF6HvB9"
      },
      "execution_count": null,
      "outputs": []
    },
    {
      "cell_type": "code",
      "source": [
        "nltk.download('wordnet')\n",
        "nltk.download('omw-1.4')"
      ],
      "metadata": {
        "colab": {
          "base_uri": "https://localhost:8080/"
        },
        "id": "f3mXM60sFvD0",
        "outputId": "b0d8a5cd-d10e-42f3-a83a-b8105bc75a3a"
      },
      "execution_count": null,
      "outputs": [
        {
          "output_type": "stream",
          "name": "stderr",
          "text": [
            "[nltk_data] Downloading package wordnet to /root/nltk_data...\n",
            "[nltk_data] Downloading package omw-1.4 to /root/nltk_data...\n"
          ]
        },
        {
          "output_type": "execute_result",
          "data": {
            "text/plain": [
              "True"
            ]
          },
          "metadata": {},
          "execution_count": 2
        }
      ]
    },
    {
      "cell_type": "code",
      "source": [
        "df_train = pd.read_csv('PS_train.csv')\n",
        "df_ev = pd.read_csv('PS_dev.csv')\n",
        "df_test = pd.read_csv('PS_test.csv')"
      ],
      "metadata": {
        "id": "zsvCOvIp8SJn"
      },
      "execution_count": null,
      "outputs": []
    },
    {
      "cell_type": "code",
      "source": [
        "print(df_train.shape)\n",
        "print(df_ev.shape)\n",
        "print(df_test.shape)"
      ],
      "metadata": {
        "colab": {
          "base_uri": "https://localhost:8080/"
        },
        "id": "JG_bTsfj9ZWD",
        "outputId": "5ac315fd-701b-40f6-86f0-d8be7315a68a"
      },
      "execution_count": null,
      "outputs": [
        {
          "output_type": "stream",
          "name": "stdout",
          "text": [
            "(4352, 2)\n",
            "(544, 2)\n",
            "(544, 3)\n"
          ]
        }
      ]
    },
    {
      "cell_type": "code",
      "source": [
        "df_train.head()"
      ],
      "metadata": {
        "colab": {
          "base_uri": "https://localhost:8080/",
          "height": 206
        },
        "id": "RyOkiXCh9j0_",
        "outputId": "4a2ad2d9-8203-4017-d354-3069638eca05"
      },
      "execution_count": null,
      "outputs": [
        {
          "output_type": "execute_result",
          "data": {
            "text/plain": [
              "                                             content         labels\n",
              "0  தென்காசி தொகுதி புதிய தமிழகம் கட்சி வேட்பாளர் ...        Neutral\n",
              "1  அண்ணன் இதனை சூசகமாக 11 மாதங்கள் முன்பே பேட்டிய...  Substantiated\n",
              "2  ஒரு வருடம் ஆகி விட்டது இந்த துயரம் நேர்ந்து......    Opinionated\n",
              "3  எடப்பாடியை கண்டுகொள்ளாத \"எடப்பாடி\"🫢\\n ---\\nஆதர...       Positive\n",
              "4  எங்களின் அரசியல் அடுத்த தலைமுறைக்குமானது \\n#மக...    Opinionated"
            ],
            "text/html": [
              "\n",
              "  <div id=\"df-1b1bb7fa-e3cf-4018-8ebc-ea2d76b3f665\" class=\"colab-df-container\">\n",
              "    <div>\n",
              "<style scoped>\n",
              "    .dataframe tbody tr th:only-of-type {\n",
              "        vertical-align: middle;\n",
              "    }\n",
              "\n",
              "    .dataframe tbody tr th {\n",
              "        vertical-align: top;\n",
              "    }\n",
              "\n",
              "    .dataframe thead th {\n",
              "        text-align: right;\n",
              "    }\n",
              "</style>\n",
              "<table border=\"1\" class=\"dataframe\">\n",
              "  <thead>\n",
              "    <tr style=\"text-align: right;\">\n",
              "      <th></th>\n",
              "      <th>content</th>\n",
              "      <th>labels</th>\n",
              "    </tr>\n",
              "  </thead>\n",
              "  <tbody>\n",
              "    <tr>\n",
              "      <th>0</th>\n",
              "      <td>தென்காசி தொகுதி புதிய தமிழகம் கட்சி வேட்பாளர் ...</td>\n",
              "      <td>Neutral</td>\n",
              "    </tr>\n",
              "    <tr>\n",
              "      <th>1</th>\n",
              "      <td>அண்ணன் இதனை சூசகமாக 11 மாதங்கள் முன்பே பேட்டிய...</td>\n",
              "      <td>Substantiated</td>\n",
              "    </tr>\n",
              "    <tr>\n",
              "      <th>2</th>\n",
              "      <td>ஒரு வருடம் ஆகி விட்டது இந்த துயரம் நேர்ந்து......</td>\n",
              "      <td>Opinionated</td>\n",
              "    </tr>\n",
              "    <tr>\n",
              "      <th>3</th>\n",
              "      <td>எடப்பாடியை கண்டுகொள்ளாத \"எடப்பாடி\"🫢\\n ---\\nஆதர...</td>\n",
              "      <td>Positive</td>\n",
              "    </tr>\n",
              "    <tr>\n",
              "      <th>4</th>\n",
              "      <td>எங்களின் அரசியல் அடுத்த தலைமுறைக்குமானது \\n#மக...</td>\n",
              "      <td>Opinionated</td>\n",
              "    </tr>\n",
              "  </tbody>\n",
              "</table>\n",
              "</div>\n",
              "    <div class=\"colab-df-buttons\">\n",
              "\n",
              "  <div class=\"colab-df-container\">\n",
              "    <button class=\"colab-df-convert\" onclick=\"convertToInteractive('df-1b1bb7fa-e3cf-4018-8ebc-ea2d76b3f665')\"\n",
              "            title=\"Convert this dataframe to an interactive table.\"\n",
              "            style=\"display:none;\">\n",
              "\n",
              "  <svg xmlns=\"http://www.w3.org/2000/svg\" height=\"24px\" viewBox=\"0 -960 960 960\">\n",
              "    <path d=\"M120-120v-720h720v720H120Zm60-500h600v-160H180v160Zm220 220h160v-160H400v160Zm0 220h160v-160H400v160ZM180-400h160v-160H180v160Zm440 0h160v-160H620v160ZM180-180h160v-160H180v160Zm440 0h160v-160H620v160Z\"/>\n",
              "  </svg>\n",
              "    </button>\n",
              "\n",
              "  <style>\n",
              "    .colab-df-container {\n",
              "      display:flex;\n",
              "      gap: 12px;\n",
              "    }\n",
              "\n",
              "    .colab-df-convert {\n",
              "      background-color: #E8F0FE;\n",
              "      border: none;\n",
              "      border-radius: 50%;\n",
              "      cursor: pointer;\n",
              "      display: none;\n",
              "      fill: #1967D2;\n",
              "      height: 32px;\n",
              "      padding: 0 0 0 0;\n",
              "      width: 32px;\n",
              "    }\n",
              "\n",
              "    .colab-df-convert:hover {\n",
              "      background-color: #E2EBFA;\n",
              "      box-shadow: 0px 1px 2px rgba(60, 64, 67, 0.3), 0px 1px 3px 1px rgba(60, 64, 67, 0.15);\n",
              "      fill: #174EA6;\n",
              "    }\n",
              "\n",
              "    .colab-df-buttons div {\n",
              "      margin-bottom: 4px;\n",
              "    }\n",
              "\n",
              "    [theme=dark] .colab-df-convert {\n",
              "      background-color: #3B4455;\n",
              "      fill: #D2E3FC;\n",
              "    }\n",
              "\n",
              "    [theme=dark] .colab-df-convert:hover {\n",
              "      background-color: #434B5C;\n",
              "      box-shadow: 0px 1px 3px 1px rgba(0, 0, 0, 0.15);\n",
              "      filter: drop-shadow(0px 1px 2px rgba(0, 0, 0, 0.3));\n",
              "      fill: #FFFFFF;\n",
              "    }\n",
              "  </style>\n",
              "\n",
              "    <script>\n",
              "      const buttonEl =\n",
              "        document.querySelector('#df-1b1bb7fa-e3cf-4018-8ebc-ea2d76b3f665 button.colab-df-convert');\n",
              "      buttonEl.style.display =\n",
              "        google.colab.kernel.accessAllowed ? 'block' : 'none';\n",
              "\n",
              "      async function convertToInteractive(key) {\n",
              "        const element = document.querySelector('#df-1b1bb7fa-e3cf-4018-8ebc-ea2d76b3f665');\n",
              "        const dataTable =\n",
              "          await google.colab.kernel.invokeFunction('convertToInteractive',\n",
              "                                                    [key], {});\n",
              "        if (!dataTable) return;\n",
              "\n",
              "        const docLinkHtml = 'Like what you see? Visit the ' +\n",
              "          '<a target=\"_blank\" href=https://colab.research.google.com/notebooks/data_table.ipynb>data table notebook</a>'\n",
              "          + ' to learn more about interactive tables.';\n",
              "        element.innerHTML = '';\n",
              "        dataTable['output_type'] = 'display_data';\n",
              "        await google.colab.output.renderOutput(dataTable, element);\n",
              "        const docLink = document.createElement('div');\n",
              "        docLink.innerHTML = docLinkHtml;\n",
              "        element.appendChild(docLink);\n",
              "      }\n",
              "    </script>\n",
              "  </div>\n",
              "\n",
              "\n",
              "<div id=\"df-accc137d-13b6-47fc-8f0b-5ea2876bef60\">\n",
              "  <button class=\"colab-df-quickchart\" onclick=\"quickchart('df-accc137d-13b6-47fc-8f0b-5ea2876bef60')\"\n",
              "            title=\"Suggest charts\"\n",
              "            style=\"display:none;\">\n",
              "\n",
              "<svg xmlns=\"http://www.w3.org/2000/svg\" height=\"24px\"viewBox=\"0 0 24 24\"\n",
              "     width=\"24px\">\n",
              "    <g>\n",
              "        <path d=\"M19 3H5c-1.1 0-2 .9-2 2v14c0 1.1.9 2 2 2h14c1.1 0 2-.9 2-2V5c0-1.1-.9-2-2-2zM9 17H7v-7h2v7zm4 0h-2V7h2v10zm4 0h-2v-4h2v4z\"/>\n",
              "    </g>\n",
              "</svg>\n",
              "  </button>\n",
              "\n",
              "<style>\n",
              "  .colab-df-quickchart {\n",
              "      --bg-color: #E8F0FE;\n",
              "      --fill-color: #1967D2;\n",
              "      --hover-bg-color: #E2EBFA;\n",
              "      --hover-fill-color: #174EA6;\n",
              "      --disabled-fill-color: #AAA;\n",
              "      --disabled-bg-color: #DDD;\n",
              "  }\n",
              "\n",
              "  [theme=dark] .colab-df-quickchart {\n",
              "      --bg-color: #3B4455;\n",
              "      --fill-color: #D2E3FC;\n",
              "      --hover-bg-color: #434B5C;\n",
              "      --hover-fill-color: #FFFFFF;\n",
              "      --disabled-bg-color: #3B4455;\n",
              "      --disabled-fill-color: #666;\n",
              "  }\n",
              "\n",
              "  .colab-df-quickchart {\n",
              "    background-color: var(--bg-color);\n",
              "    border: none;\n",
              "    border-radius: 50%;\n",
              "    cursor: pointer;\n",
              "    display: none;\n",
              "    fill: var(--fill-color);\n",
              "    height: 32px;\n",
              "    padding: 0;\n",
              "    width: 32px;\n",
              "  }\n",
              "\n",
              "  .colab-df-quickchart:hover {\n",
              "    background-color: var(--hover-bg-color);\n",
              "    box-shadow: 0 1px 2px rgba(60, 64, 67, 0.3), 0 1px 3px 1px rgba(60, 64, 67, 0.15);\n",
              "    fill: var(--button-hover-fill-color);\n",
              "  }\n",
              "\n",
              "  .colab-df-quickchart-complete:disabled,\n",
              "  .colab-df-quickchart-complete:disabled:hover {\n",
              "    background-color: var(--disabled-bg-color);\n",
              "    fill: var(--disabled-fill-color);\n",
              "    box-shadow: none;\n",
              "  }\n",
              "\n",
              "  .colab-df-spinner {\n",
              "    border: 2px solid var(--fill-color);\n",
              "    border-color: transparent;\n",
              "    border-bottom-color: var(--fill-color);\n",
              "    animation:\n",
              "      spin 1s steps(1) infinite;\n",
              "  }\n",
              "\n",
              "  @keyframes spin {\n",
              "    0% {\n",
              "      border-color: transparent;\n",
              "      border-bottom-color: var(--fill-color);\n",
              "      border-left-color: var(--fill-color);\n",
              "    }\n",
              "    20% {\n",
              "      border-color: transparent;\n",
              "      border-left-color: var(--fill-color);\n",
              "      border-top-color: var(--fill-color);\n",
              "    }\n",
              "    30% {\n",
              "      border-color: transparent;\n",
              "      border-left-color: var(--fill-color);\n",
              "      border-top-color: var(--fill-color);\n",
              "      border-right-color: var(--fill-color);\n",
              "    }\n",
              "    40% {\n",
              "      border-color: transparent;\n",
              "      border-right-color: var(--fill-color);\n",
              "      border-top-color: var(--fill-color);\n",
              "    }\n",
              "    60% {\n",
              "      border-color: transparent;\n",
              "      border-right-color: var(--fill-color);\n",
              "    }\n",
              "    80% {\n",
              "      border-color: transparent;\n",
              "      border-right-color: var(--fill-color);\n",
              "      border-bottom-color: var(--fill-color);\n",
              "    }\n",
              "    90% {\n",
              "      border-color: transparent;\n",
              "      border-bottom-color: var(--fill-color);\n",
              "    }\n",
              "  }\n",
              "</style>\n",
              "\n",
              "  <script>\n",
              "    async function quickchart(key) {\n",
              "      const quickchartButtonEl =\n",
              "        document.querySelector('#' + key + ' button');\n",
              "      quickchartButtonEl.disabled = true;  // To prevent multiple clicks.\n",
              "      quickchartButtonEl.classList.add('colab-df-spinner');\n",
              "      try {\n",
              "        const charts = await google.colab.kernel.invokeFunction(\n",
              "            'suggestCharts', [key], {});\n",
              "      } catch (error) {\n",
              "        console.error('Error during call to suggestCharts:', error);\n",
              "      }\n",
              "      quickchartButtonEl.classList.remove('colab-df-spinner');\n",
              "      quickchartButtonEl.classList.add('colab-df-quickchart-complete');\n",
              "    }\n",
              "    (() => {\n",
              "      let quickchartButtonEl =\n",
              "        document.querySelector('#df-accc137d-13b6-47fc-8f0b-5ea2876bef60 button');\n",
              "      quickchartButtonEl.style.display =\n",
              "        google.colab.kernel.accessAllowed ? 'block' : 'none';\n",
              "    })();\n",
              "  </script>\n",
              "</div>\n",
              "\n",
              "    </div>\n",
              "  </div>\n"
            ],
            "application/vnd.google.colaboratory.intrinsic+json": {
              "type": "dataframe",
              "variable_name": "df_train",
              "summary": "{\n  \"name\": \"df_train\",\n  \"rows\": 4352,\n  \"fields\": [\n    {\n      \"column\": \"content\",\n      \"properties\": {\n        \"dtype\": \"string\",\n        \"num_unique_values\": 4181,\n        \"samples\": [\n          \"\\u0b85\\u0ba9\\u0bcd\\u0bb1\\u0bc1, \\u0b95\\u0bbe\\u0bb2\\u0bae\\u0bcd \\u0ba4\\u0bbf\\u0bb0\\u0bc1 \\u0bb0\\u0bbe\\u0b95\\u0bc1\\u0bb2\\u0bc1\\u0b95\\u0bcd\\u0b95\\u0bc1 \\u0b95\\u0bc8\\u0b95\\u0bcd\\u0b95\\u0bca\\u0b9f\\u0bc1\\u0b95\\u0bcd\\u0b95\\u0bb5\\u0bbf\\u0bb2\\u0bcd\\u0bb2\\u0bc8! \\n\\u0b87\\u0ba9\\u0bcd\\u0bb1\\u0bc1 \\u0b95\\u0bbe\\u0bb2\\u0bae\\u0bcd \\u0b9a\\u0bbf\\u0b95\\u0baa\\u0bcd\\u0baa\\u0bc1\\u0b95\\u0bcd \\u0b95\\u0bae\\u0bcd\\u0baa\\u0bb3\\u0bae\\u0bcd \\u0bb5\\u0bbf\\u0bb0\\u0bbf\\u0ba4\\u0bcd\\u0ba4\\u0bc1 \\u0bb5\\u0bb0\\u0bb5\\u0bc7\\u0bb1\\u0bcd\\u0bb1\\u0bc1 \\u0ba8\\u0bbf\\u0bb1\\u0bcd\\u0b95\\u0bbf\\u0bb1\\u0ba4\\u0bc1! \\n\\n\\u0bae\\u0bc1\\u0ba4\\u0bb2\\u0bcd\\u0bb5\\u0bb0\\u0bbf\\u0ba9\\u0bcd \\u0b85\\u0ba9\\u0bcd\\u0baa\\u0bc1\\u0ba4\\u0bcd \\u0ba4\\u0bae\\u0bcd\\u0baa\\u0bbf \\u0bb0\\u0bbe\\u0b95\\u0bc1\\u0bb2\\u0bbf\\u0ba9\\u0bcd \\u0bb5\\u0bb4\\u0bbf\\u0baf\\u0bbe\\u0b95 \\u201c\\u0ba4\\u0bbf\\u0bb0\\u0bbe\\u0bb5\\u0bbf\\u0b9f\\u0b9a\\u0bcd \\u0b9a\\u0bbf\\u0ba4\\u0bcd\\u0ba4\\u0bbe\\u0ba8\\u0bcd\\u0ba4\\u0bae\\u0bcd\\u201d \\u0b87\\u0ba8\\u0bcd\\u0ba4\\u0bbf\\u0baf\\u0bbe \\u0bae\\u0bc1\\u0bb4\\u0bc1\\u0bae\\u0bc8\\u0b95\\u0bcd\\u0b95\\u0bc1\\u0bae\\u0bcd \\u0baa\\u0bb0\\u0bb5\\u0b9f\\u0bcd\\u0b9f\\u0bc1\\u0bae\\u0bcd!\\n\\n#RahulGandhi2024 #RahulGandhiHopeOfIndia \\n#DravidianModel \\n#DMK\",\n          \" \\u0bb5\\u0bc7\\u0b9f\\u0bcd\\u0baa\\u0bbe\\u0bb3\\u0bb0\\u0bcd\\u0b95\\u0bbf\\u0b9f\\u0bcd\\u0b9f \\u0b95\\u0bbe\\u0b9a\\u0bc1 \\u0bb5\\u0bbe\\u0b99\\u0bcd\\u0b95\\u0bbf\\u0b9f\\u0bcd\\u0b9f\\u0bc1 \\u0b95\\u0bc1\\u0b9f\\u0bbf\\u0b9a\\u0bcd\\u0b9a\\u0bbf\\u0b9f\\u0bcd\\u0b9f\\u0bc1 \\u0b89\\u0bb3\\u0bb1\\u0bbf\\u0b95\\u0bbf\\u0b9f\\u0bcd\\u0b9f\\u0bc1\\u0b95\\u0bbf\\u0b9f\\u0b95\\u0bcd\\u0b95\\u0bbf\\u0bb1\\u0bbe\\u0ba9\\u0bcd..\\n#Seeman\",\n          \"\\u0baa\\u0bc7\\u0b9a\\u0bc1\\u0bae\\u0bcd \\u0baa\\u0b9f\\u0bae\\u0bcd #DMKFailsTN\"\n        ],\n        \"semantic_type\": \"\",\n        \"description\": \"\"\n      }\n    },\n    {\n      \"column\": \"labels\",\n      \"properties\": {\n        \"dtype\": \"category\",\n        \"num_unique_values\": 7,\n        \"samples\": [\n          \"Neutral\",\n          \"Substantiated\",\n          \"Negative\"\n        ],\n        \"semantic_type\": \"\",\n        \"description\": \"\"\n      }\n    }\n  ]\n}"
            }
          },
          "metadata": {},
          "execution_count": 5
        }
      ]
    },
    {
      "cell_type": "code",
      "source": [
        "df_ev.head()"
      ],
      "metadata": {
        "colab": {
          "base_uri": "https://localhost:8080/",
          "height": 206
        },
        "id": "j2kgBiwLMB4F",
        "outputId": "514a6f83-2930-4c14-9b22-089d78618b87"
      },
      "execution_count": null,
      "outputs": [
        {
          "output_type": "execute_result",
          "data": {
            "text/plain": [
              "                                             content         labels\n",
              "0  ஒற்றே அறை...\\n\\nபாஜக குளோஸ்!\\n\\n#மக்களின்_சின்...    Opinionated\n",
              "1  வாய்ப்பில்லை சார் வாய்ப்பில்லை\\n#சீமானின்_சின்...  Substantiated\n",
              "2  ஒரே போடு இரண்டாக பிளக்கும் | வரலாற்றில் ஒருவன்...        Neutral\n",
              "3  இப்படியெல்லாம் எடிட் பண்ணிதான் ஓட்டு வாங்கணும்...       Negative\n",
              "4  #Mike_VoiceOfPeople \\n#NTK_Symbol_Mike \\n#மக்க...  Substantiated"
            ],
            "text/html": [
              "\n",
              "  <div id=\"df-0939503f-24aa-4082-bb22-8570498db336\" class=\"colab-df-container\">\n",
              "    <div>\n",
              "<style scoped>\n",
              "    .dataframe tbody tr th:only-of-type {\n",
              "        vertical-align: middle;\n",
              "    }\n",
              "\n",
              "    .dataframe tbody tr th {\n",
              "        vertical-align: top;\n",
              "    }\n",
              "\n",
              "    .dataframe thead th {\n",
              "        text-align: right;\n",
              "    }\n",
              "</style>\n",
              "<table border=\"1\" class=\"dataframe\">\n",
              "  <thead>\n",
              "    <tr style=\"text-align: right;\">\n",
              "      <th></th>\n",
              "      <th>content</th>\n",
              "      <th>labels</th>\n",
              "    </tr>\n",
              "  </thead>\n",
              "  <tbody>\n",
              "    <tr>\n",
              "      <th>0</th>\n",
              "      <td>ஒற்றே அறை...\\n\\nபாஜக குளோஸ்!\\n\\n#மக்களின்_சின்...</td>\n",
              "      <td>Opinionated</td>\n",
              "    </tr>\n",
              "    <tr>\n",
              "      <th>1</th>\n",
              "      <td>வாய்ப்பில்லை சார் வாய்ப்பில்லை\\n#சீமானின்_சின்...</td>\n",
              "      <td>Substantiated</td>\n",
              "    </tr>\n",
              "    <tr>\n",
              "      <th>2</th>\n",
              "      <td>ஒரே போடு இரண்டாக பிளக்கும் | வரலாற்றில் ஒருவன்...</td>\n",
              "      <td>Neutral</td>\n",
              "    </tr>\n",
              "    <tr>\n",
              "      <th>3</th>\n",
              "      <td>இப்படியெல்லாம் எடிட் பண்ணிதான் ஓட்டு வாங்கணும்...</td>\n",
              "      <td>Negative</td>\n",
              "    </tr>\n",
              "    <tr>\n",
              "      <th>4</th>\n",
              "      <td>#Mike_VoiceOfPeople \\n#NTK_Symbol_Mike \\n#மக்க...</td>\n",
              "      <td>Substantiated</td>\n",
              "    </tr>\n",
              "  </tbody>\n",
              "</table>\n",
              "</div>\n",
              "    <div class=\"colab-df-buttons\">\n",
              "\n",
              "  <div class=\"colab-df-container\">\n",
              "    <button class=\"colab-df-convert\" onclick=\"convertToInteractive('df-0939503f-24aa-4082-bb22-8570498db336')\"\n",
              "            title=\"Convert this dataframe to an interactive table.\"\n",
              "            style=\"display:none;\">\n",
              "\n",
              "  <svg xmlns=\"http://www.w3.org/2000/svg\" height=\"24px\" viewBox=\"0 -960 960 960\">\n",
              "    <path d=\"M120-120v-720h720v720H120Zm60-500h600v-160H180v160Zm220 220h160v-160H400v160Zm0 220h160v-160H400v160ZM180-400h160v-160H180v160Zm440 0h160v-160H620v160ZM180-180h160v-160H180v160Zm440 0h160v-160H620v160Z\"/>\n",
              "  </svg>\n",
              "    </button>\n",
              "\n",
              "  <style>\n",
              "    .colab-df-container {\n",
              "      display:flex;\n",
              "      gap: 12px;\n",
              "    }\n",
              "\n",
              "    .colab-df-convert {\n",
              "      background-color: #E8F0FE;\n",
              "      border: none;\n",
              "      border-radius: 50%;\n",
              "      cursor: pointer;\n",
              "      display: none;\n",
              "      fill: #1967D2;\n",
              "      height: 32px;\n",
              "      padding: 0 0 0 0;\n",
              "      width: 32px;\n",
              "    }\n",
              "\n",
              "    .colab-df-convert:hover {\n",
              "      background-color: #E2EBFA;\n",
              "      box-shadow: 0px 1px 2px rgba(60, 64, 67, 0.3), 0px 1px 3px 1px rgba(60, 64, 67, 0.15);\n",
              "      fill: #174EA6;\n",
              "    }\n",
              "\n",
              "    .colab-df-buttons div {\n",
              "      margin-bottom: 4px;\n",
              "    }\n",
              "\n",
              "    [theme=dark] .colab-df-convert {\n",
              "      background-color: #3B4455;\n",
              "      fill: #D2E3FC;\n",
              "    }\n",
              "\n",
              "    [theme=dark] .colab-df-convert:hover {\n",
              "      background-color: #434B5C;\n",
              "      box-shadow: 0px 1px 3px 1px rgba(0, 0, 0, 0.15);\n",
              "      filter: drop-shadow(0px 1px 2px rgba(0, 0, 0, 0.3));\n",
              "      fill: #FFFFFF;\n",
              "    }\n",
              "  </style>\n",
              "\n",
              "    <script>\n",
              "      const buttonEl =\n",
              "        document.querySelector('#df-0939503f-24aa-4082-bb22-8570498db336 button.colab-df-convert');\n",
              "      buttonEl.style.display =\n",
              "        google.colab.kernel.accessAllowed ? 'block' : 'none';\n",
              "\n",
              "      async function convertToInteractive(key) {\n",
              "        const element = document.querySelector('#df-0939503f-24aa-4082-bb22-8570498db336');\n",
              "        const dataTable =\n",
              "          await google.colab.kernel.invokeFunction('convertToInteractive',\n",
              "                                                    [key], {});\n",
              "        if (!dataTable) return;\n",
              "\n",
              "        const docLinkHtml = 'Like what you see? Visit the ' +\n",
              "          '<a target=\"_blank\" href=https://colab.research.google.com/notebooks/data_table.ipynb>data table notebook</a>'\n",
              "          + ' to learn more about interactive tables.';\n",
              "        element.innerHTML = '';\n",
              "        dataTable['output_type'] = 'display_data';\n",
              "        await google.colab.output.renderOutput(dataTable, element);\n",
              "        const docLink = document.createElement('div');\n",
              "        docLink.innerHTML = docLinkHtml;\n",
              "        element.appendChild(docLink);\n",
              "      }\n",
              "    </script>\n",
              "  </div>\n",
              "\n",
              "\n",
              "<div id=\"df-e1317752-ab79-4b65-bfb7-9968bc0d31ec\">\n",
              "  <button class=\"colab-df-quickchart\" onclick=\"quickchart('df-e1317752-ab79-4b65-bfb7-9968bc0d31ec')\"\n",
              "            title=\"Suggest charts\"\n",
              "            style=\"display:none;\">\n",
              "\n",
              "<svg xmlns=\"http://www.w3.org/2000/svg\" height=\"24px\"viewBox=\"0 0 24 24\"\n",
              "     width=\"24px\">\n",
              "    <g>\n",
              "        <path d=\"M19 3H5c-1.1 0-2 .9-2 2v14c0 1.1.9 2 2 2h14c1.1 0 2-.9 2-2V5c0-1.1-.9-2-2-2zM9 17H7v-7h2v7zm4 0h-2V7h2v10zm4 0h-2v-4h2v4z\"/>\n",
              "    </g>\n",
              "</svg>\n",
              "  </button>\n",
              "\n",
              "<style>\n",
              "  .colab-df-quickchart {\n",
              "      --bg-color: #E8F0FE;\n",
              "      --fill-color: #1967D2;\n",
              "      --hover-bg-color: #E2EBFA;\n",
              "      --hover-fill-color: #174EA6;\n",
              "      --disabled-fill-color: #AAA;\n",
              "      --disabled-bg-color: #DDD;\n",
              "  }\n",
              "\n",
              "  [theme=dark] .colab-df-quickchart {\n",
              "      --bg-color: #3B4455;\n",
              "      --fill-color: #D2E3FC;\n",
              "      --hover-bg-color: #434B5C;\n",
              "      --hover-fill-color: #FFFFFF;\n",
              "      --disabled-bg-color: #3B4455;\n",
              "      --disabled-fill-color: #666;\n",
              "  }\n",
              "\n",
              "  .colab-df-quickchart {\n",
              "    background-color: var(--bg-color);\n",
              "    border: none;\n",
              "    border-radius: 50%;\n",
              "    cursor: pointer;\n",
              "    display: none;\n",
              "    fill: var(--fill-color);\n",
              "    height: 32px;\n",
              "    padding: 0;\n",
              "    width: 32px;\n",
              "  }\n",
              "\n",
              "  .colab-df-quickchart:hover {\n",
              "    background-color: var(--hover-bg-color);\n",
              "    box-shadow: 0 1px 2px rgba(60, 64, 67, 0.3), 0 1px 3px 1px rgba(60, 64, 67, 0.15);\n",
              "    fill: var(--button-hover-fill-color);\n",
              "  }\n",
              "\n",
              "  .colab-df-quickchart-complete:disabled,\n",
              "  .colab-df-quickchart-complete:disabled:hover {\n",
              "    background-color: var(--disabled-bg-color);\n",
              "    fill: var(--disabled-fill-color);\n",
              "    box-shadow: none;\n",
              "  }\n",
              "\n",
              "  .colab-df-spinner {\n",
              "    border: 2px solid var(--fill-color);\n",
              "    border-color: transparent;\n",
              "    border-bottom-color: var(--fill-color);\n",
              "    animation:\n",
              "      spin 1s steps(1) infinite;\n",
              "  }\n",
              "\n",
              "  @keyframes spin {\n",
              "    0% {\n",
              "      border-color: transparent;\n",
              "      border-bottom-color: var(--fill-color);\n",
              "      border-left-color: var(--fill-color);\n",
              "    }\n",
              "    20% {\n",
              "      border-color: transparent;\n",
              "      border-left-color: var(--fill-color);\n",
              "      border-top-color: var(--fill-color);\n",
              "    }\n",
              "    30% {\n",
              "      border-color: transparent;\n",
              "      border-left-color: var(--fill-color);\n",
              "      border-top-color: var(--fill-color);\n",
              "      border-right-color: var(--fill-color);\n",
              "    }\n",
              "    40% {\n",
              "      border-color: transparent;\n",
              "      border-right-color: var(--fill-color);\n",
              "      border-top-color: var(--fill-color);\n",
              "    }\n",
              "    60% {\n",
              "      border-color: transparent;\n",
              "      border-right-color: var(--fill-color);\n",
              "    }\n",
              "    80% {\n",
              "      border-color: transparent;\n",
              "      border-right-color: var(--fill-color);\n",
              "      border-bottom-color: var(--fill-color);\n",
              "    }\n",
              "    90% {\n",
              "      border-color: transparent;\n",
              "      border-bottom-color: var(--fill-color);\n",
              "    }\n",
              "  }\n",
              "</style>\n",
              "\n",
              "  <script>\n",
              "    async function quickchart(key) {\n",
              "      const quickchartButtonEl =\n",
              "        document.querySelector('#' + key + ' button');\n",
              "      quickchartButtonEl.disabled = true;  // To prevent multiple clicks.\n",
              "      quickchartButtonEl.classList.add('colab-df-spinner');\n",
              "      try {\n",
              "        const charts = await google.colab.kernel.invokeFunction(\n",
              "            'suggestCharts', [key], {});\n",
              "      } catch (error) {\n",
              "        console.error('Error during call to suggestCharts:', error);\n",
              "      }\n",
              "      quickchartButtonEl.classList.remove('colab-df-spinner');\n",
              "      quickchartButtonEl.classList.add('colab-df-quickchart-complete');\n",
              "    }\n",
              "    (() => {\n",
              "      let quickchartButtonEl =\n",
              "        document.querySelector('#df-e1317752-ab79-4b65-bfb7-9968bc0d31ec button');\n",
              "      quickchartButtonEl.style.display =\n",
              "        google.colab.kernel.accessAllowed ? 'block' : 'none';\n",
              "    })();\n",
              "  </script>\n",
              "</div>\n",
              "\n",
              "    </div>\n",
              "  </div>\n"
            ],
            "application/vnd.google.colaboratory.intrinsic+json": {
              "type": "dataframe",
              "variable_name": "df_ev",
              "summary": "{\n  \"name\": \"df_ev\",\n  \"rows\": 544,\n  \"fields\": [\n    {\n      \"column\": \"content\",\n      \"properties\": {\n        \"dtype\": \"string\",\n        \"num_unique_values\": 540,\n        \"samples\": [\n          \"\\\"\\u0b85\\u0ba3\\u0bcd\\u0ba3\\u0bbe\\u0bae\\u0bb2\\u0bc8 \\u0b92\\u0bb0\\u0bc1 \\u0b85\\u0baa\\u0bcd\\u0bb0\\u0ba3\\u0bcd\\u0b9f\\u0bbf\\u0bb8\\u0bcd\\\"\\n\\n#Jayakumar #ADMK #Annamalai #BJP \",\n          \"\\ud83c\\uddf0\\ud83c\\uddec\\ud83c\\udf99\\ufe0f \\u0b92\\u0bb0\\u0bc1 \\u0baa\\u0b95\\u0bcd\\u0b95\\u0bae\\u0bcd \\u0bae\\u0bc8\\u0b95\\u0bcd \\u0b9a\\u0bbf\\u0ba9\\u0bcd\\u0ba9\\u0ba4\\u0bcd\\u0ba4\\u0bbf\\u0bb1\\u0bcd\\u0b95\\u0bc1 \\u0b86\\u0ba4\\u0bb0\\u0bb5\\u0bc1 \\u0b8e\\u0ba9\\u0bcd\\u0bb1\\u0bbe\\u0bb2\\u0bc1\\u0bae\\u0bcd , \\u0bae\\u0bb1\\u0bc1\\u0baa\\u0b95\\u0bcd\\u0b95\\u0bae\\u0bcd 666 \\u0baf\\u0bc2\\u0ba4\\u0bb0\\u0bcd\\u0b95\\u0bb3\\u0bbf\\u0ba9\\u0bcd \\u0b8e\\u0ba3\\u0bcd \\u0bb5\\u0bb0\\u0bc1\\u0b95\\u0bbf\\u0bb1\\u0ba4\\u0bc1. \\u0ba4\\u0bae\\u0bcd\\u0baa\\u0bbf \\u0baa\\u0bbe\\u0bb0\\u0bbf\\u0b9a\\u0bbe\\u0bb2\\u0ba9\\u0bcd \\u0ba4\\u0baf\\u0bbe\\u0bb0\\u0bbe\\u0b95\\u0bbf\\u0b95\\u0bcd \\u0b95\\u0bca\\u0ba3\\u0bcd\\u0b9f\\u0bbf\\u0bb0\\u0bc1\\u0baa\\u0bcd\\u0baa\\u0bbe\\u0bb0\\u0bcd \\ud83c\\udf99\\ufe0f\\ud83c\\uddf0\\ud83c\\uddec\\n\\n#\\u0bae\\u0b95\\u0bcd\\u0b95\\u0bb3\\u0bbf\\u0ba9\\u0bcd_\\u0b9a\\u0bbf\\u0ba9\\u0bcd\\u0ba9\\u0bae\\u0bcd_\\u0bae\\u0bc8\\u0b95\\u0bcd\\n#Mike_VoiceOfPeople\\n\\ud83c\\udf99\\ufe0f\\ud83c\\udf99\\ufe0f\\ud83c\\udf99\\ufe0f\\ud83c\\udf99\\ufe0f\\ud83c\\udf99\\ufe0f\\ud83c\\udf99\\ufe0f\\ud83c\\udf99\\ufe0f\\ud83c\\udf99\\ufe0f\\ud83c\\udf99\\ufe0f \",\n          \"\\u0ba8\\u0bbe\\u0ba9\\u0bcd \\u0baa\\u0bbe\\u0bb0\\u0bcd\\u0ba4\\u0bcd\\u0ba4\\u0bc1\\u0b95\\u0bbf\\u0bb1\\u0bc7\\u0ba9\\u0bcd.. \\u0bb0\\u0bbe\\u0b95\\u0bc1\\u0bb2\\u0bbf\\u0b9f\\u0bae\\u0bcd \\u0bb8\\u0bcd\\u0b9f\\u0bbe\\u0bb2\\u0bbf\\u0ba9\\u0bcd \\u0ba4\\u0ba8\\u0bcd\\u0ba4 \\u0bb5\\u0bbe\\u0b95\\u0bcd\\u0b95\\u0bc1\\u0bb1\\u0bc1\\u0ba4\\u0bbf! \\u0b87\\u0ba4\\u0bc6\\u0bb2\\u0bcd\\u0bb2\\u0bbe\\u0bae\\u0bcd \\u0bb5\\u0bc7\\u0bb1 \\u0bb2\\u0bc6\\u0bb5\\u0bb2\\u0bcd \\u0baa\\u0bbf\\u0bb3\\u0bbe\\u0ba9\\u0bcd! \\u0b8e\\u0ba9\\u0bcd\\u0ba9 \\u0ba8\\u0b9f\\u0ba8\\u0bcd\\u0ba4\\u0ba4\\u0bc1?\\n\\n\\n\\n#Tamilnadu #MKStalin #RahulGandhi #SoniaGandhi #\\u0bb8\\u0bcd\\u0b9f\\u0bbe\\u0bb2\\u0bbf\\u0ba9\\u0bcd\"\n        ],\n        \"semantic_type\": \"\",\n        \"description\": \"\"\n      }\n    },\n    {\n      \"column\": \"labels\",\n      \"properties\": {\n        \"dtype\": \"category\",\n        \"num_unique_values\": 7,\n        \"samples\": [\n          \"Opinionated\",\n          \"Substantiated\",\n          \"None of the above\"\n        ],\n        \"semantic_type\": \"\",\n        \"description\": \"\"\n      }\n    }\n  ]\n}"
            }
          },
          "metadata": {},
          "execution_count": 5
        }
      ]
    },
    {
      "cell_type": "code",
      "source": [
        "df_test.head()"
      ],
      "metadata": {
        "colab": {
          "base_uri": "https://localhost:8080/",
          "height": 206
        },
        "id": "oKGMxMWG9nV6",
        "outputId": "e79f0e58-2b32-4abf-b6ef-bb69af877372"
      },
      "execution_count": null,
      "outputs": [
        {
          "output_type": "execute_result",
          "data": {
            "text/plain": [
              "      Id                                            content\n",
              "0  PS_01  இஸ்லாமிய சகோதரர்களுடன் ரமலான் கொண்டாடிய அதிமுக...\n",
              "1  PS_02  \\nஓபிஎஸ் - எடப்பாடி போட்டா போட்டி! திடீரென பணி...\n",
              "2  PS_03  இன்றைய பரப்புரை:\\n\\nநாம் தமிழர் கட்சி தலைமை ஒர...\n",
              "3  PS_04  🇰🇬🎙️ இன்னும் 05 ஏ நாளில், வெல்வோம் தமிழராய் - ...\n",
              "4  PS_05  டாஸ்மாக்ல மட்டும்தான் கருணாநிதி அவர்களின்  பெய..."
            ],
            "text/html": [
              "\n",
              "  <div id=\"df-8e340124-8ed6-4241-9d28-6e7b6837f602\" class=\"colab-df-container\">\n",
              "    <div>\n",
              "<style scoped>\n",
              "    .dataframe tbody tr th:only-of-type {\n",
              "        vertical-align: middle;\n",
              "    }\n",
              "\n",
              "    .dataframe tbody tr th {\n",
              "        vertical-align: top;\n",
              "    }\n",
              "\n",
              "    .dataframe thead th {\n",
              "        text-align: right;\n",
              "    }\n",
              "</style>\n",
              "<table border=\"1\" class=\"dataframe\">\n",
              "  <thead>\n",
              "    <tr style=\"text-align: right;\">\n",
              "      <th></th>\n",
              "      <th>Id</th>\n",
              "      <th>content</th>\n",
              "    </tr>\n",
              "  </thead>\n",
              "  <tbody>\n",
              "    <tr>\n",
              "      <th>0</th>\n",
              "      <td>PS_01</td>\n",
              "      <td>இஸ்லாமிய சகோதரர்களுடன் ரமலான் கொண்டாடிய அதிமுக...</td>\n",
              "    </tr>\n",
              "    <tr>\n",
              "      <th>1</th>\n",
              "      <td>PS_02</td>\n",
              "      <td>\\nஓபிஎஸ் - எடப்பாடி போட்டா போட்டி! திடீரென பணி...</td>\n",
              "    </tr>\n",
              "    <tr>\n",
              "      <th>2</th>\n",
              "      <td>PS_03</td>\n",
              "      <td>இன்றைய பரப்புரை:\\n\\nநாம் தமிழர் கட்சி தலைமை ஒர...</td>\n",
              "    </tr>\n",
              "    <tr>\n",
              "      <th>3</th>\n",
              "      <td>PS_04</td>\n",
              "      <td>🇰🇬🎙️ இன்னும் 05 ஏ நாளில், வெல்வோம் தமிழராய் - ...</td>\n",
              "    </tr>\n",
              "    <tr>\n",
              "      <th>4</th>\n",
              "      <td>PS_05</td>\n",
              "      <td>டாஸ்மாக்ல மட்டும்தான் கருணாநிதி அவர்களின்  பெய...</td>\n",
              "    </tr>\n",
              "  </tbody>\n",
              "</table>\n",
              "</div>\n",
              "    <div class=\"colab-df-buttons\">\n",
              "\n",
              "  <div class=\"colab-df-container\">\n",
              "    <button class=\"colab-df-convert\" onclick=\"convertToInteractive('df-8e340124-8ed6-4241-9d28-6e7b6837f602')\"\n",
              "            title=\"Convert this dataframe to an interactive table.\"\n",
              "            style=\"display:none;\">\n",
              "\n",
              "  <svg xmlns=\"http://www.w3.org/2000/svg\" height=\"24px\" viewBox=\"0 -960 960 960\">\n",
              "    <path d=\"M120-120v-720h720v720H120Zm60-500h600v-160H180v160Zm220 220h160v-160H400v160Zm0 220h160v-160H400v160ZM180-400h160v-160H180v160Zm440 0h160v-160H620v160ZM180-180h160v-160H180v160Zm440 0h160v-160H620v160Z\"/>\n",
              "  </svg>\n",
              "    </button>\n",
              "\n",
              "  <style>\n",
              "    .colab-df-container {\n",
              "      display:flex;\n",
              "      gap: 12px;\n",
              "    }\n",
              "\n",
              "    .colab-df-convert {\n",
              "      background-color: #E8F0FE;\n",
              "      border: none;\n",
              "      border-radius: 50%;\n",
              "      cursor: pointer;\n",
              "      display: none;\n",
              "      fill: #1967D2;\n",
              "      height: 32px;\n",
              "      padding: 0 0 0 0;\n",
              "      width: 32px;\n",
              "    }\n",
              "\n",
              "    .colab-df-convert:hover {\n",
              "      background-color: #E2EBFA;\n",
              "      box-shadow: 0px 1px 2px rgba(60, 64, 67, 0.3), 0px 1px 3px 1px rgba(60, 64, 67, 0.15);\n",
              "      fill: #174EA6;\n",
              "    }\n",
              "\n",
              "    .colab-df-buttons div {\n",
              "      margin-bottom: 4px;\n",
              "    }\n",
              "\n",
              "    [theme=dark] .colab-df-convert {\n",
              "      background-color: #3B4455;\n",
              "      fill: #D2E3FC;\n",
              "    }\n",
              "\n",
              "    [theme=dark] .colab-df-convert:hover {\n",
              "      background-color: #434B5C;\n",
              "      box-shadow: 0px 1px 3px 1px rgba(0, 0, 0, 0.15);\n",
              "      filter: drop-shadow(0px 1px 2px rgba(0, 0, 0, 0.3));\n",
              "      fill: #FFFFFF;\n",
              "    }\n",
              "  </style>\n",
              "\n",
              "    <script>\n",
              "      const buttonEl =\n",
              "        document.querySelector('#df-8e340124-8ed6-4241-9d28-6e7b6837f602 button.colab-df-convert');\n",
              "      buttonEl.style.display =\n",
              "        google.colab.kernel.accessAllowed ? 'block' : 'none';\n",
              "\n",
              "      async function convertToInteractive(key) {\n",
              "        const element = document.querySelector('#df-8e340124-8ed6-4241-9d28-6e7b6837f602');\n",
              "        const dataTable =\n",
              "          await google.colab.kernel.invokeFunction('convertToInteractive',\n",
              "                                                    [key], {});\n",
              "        if (!dataTable) return;\n",
              "\n",
              "        const docLinkHtml = 'Like what you see? Visit the ' +\n",
              "          '<a target=\"_blank\" href=https://colab.research.google.com/notebooks/data_table.ipynb>data table notebook</a>'\n",
              "          + ' to learn more about interactive tables.';\n",
              "        element.innerHTML = '';\n",
              "        dataTable['output_type'] = 'display_data';\n",
              "        await google.colab.output.renderOutput(dataTable, element);\n",
              "        const docLink = document.createElement('div');\n",
              "        docLink.innerHTML = docLinkHtml;\n",
              "        element.appendChild(docLink);\n",
              "      }\n",
              "    </script>\n",
              "  </div>\n",
              "\n",
              "\n",
              "<div id=\"df-374eec0b-f6ab-409a-a855-79908b3b4540\">\n",
              "  <button class=\"colab-df-quickchart\" onclick=\"quickchart('df-374eec0b-f6ab-409a-a855-79908b3b4540')\"\n",
              "            title=\"Suggest charts\"\n",
              "            style=\"display:none;\">\n",
              "\n",
              "<svg xmlns=\"http://www.w3.org/2000/svg\" height=\"24px\"viewBox=\"0 0 24 24\"\n",
              "     width=\"24px\">\n",
              "    <g>\n",
              "        <path d=\"M19 3H5c-1.1 0-2 .9-2 2v14c0 1.1.9 2 2 2h14c1.1 0 2-.9 2-2V5c0-1.1-.9-2-2-2zM9 17H7v-7h2v7zm4 0h-2V7h2v10zm4 0h-2v-4h2v4z\"/>\n",
              "    </g>\n",
              "</svg>\n",
              "  </button>\n",
              "\n",
              "<style>\n",
              "  .colab-df-quickchart {\n",
              "      --bg-color: #E8F0FE;\n",
              "      --fill-color: #1967D2;\n",
              "      --hover-bg-color: #E2EBFA;\n",
              "      --hover-fill-color: #174EA6;\n",
              "      --disabled-fill-color: #AAA;\n",
              "      --disabled-bg-color: #DDD;\n",
              "  }\n",
              "\n",
              "  [theme=dark] .colab-df-quickchart {\n",
              "      --bg-color: #3B4455;\n",
              "      --fill-color: #D2E3FC;\n",
              "      --hover-bg-color: #434B5C;\n",
              "      --hover-fill-color: #FFFFFF;\n",
              "      --disabled-bg-color: #3B4455;\n",
              "      --disabled-fill-color: #666;\n",
              "  }\n",
              "\n",
              "  .colab-df-quickchart {\n",
              "    background-color: var(--bg-color);\n",
              "    border: none;\n",
              "    border-radius: 50%;\n",
              "    cursor: pointer;\n",
              "    display: none;\n",
              "    fill: var(--fill-color);\n",
              "    height: 32px;\n",
              "    padding: 0;\n",
              "    width: 32px;\n",
              "  }\n",
              "\n",
              "  .colab-df-quickchart:hover {\n",
              "    background-color: var(--hover-bg-color);\n",
              "    box-shadow: 0 1px 2px rgba(60, 64, 67, 0.3), 0 1px 3px 1px rgba(60, 64, 67, 0.15);\n",
              "    fill: var(--button-hover-fill-color);\n",
              "  }\n",
              "\n",
              "  .colab-df-quickchart-complete:disabled,\n",
              "  .colab-df-quickchart-complete:disabled:hover {\n",
              "    background-color: var(--disabled-bg-color);\n",
              "    fill: var(--disabled-fill-color);\n",
              "    box-shadow: none;\n",
              "  }\n",
              "\n",
              "  .colab-df-spinner {\n",
              "    border: 2px solid var(--fill-color);\n",
              "    border-color: transparent;\n",
              "    border-bottom-color: var(--fill-color);\n",
              "    animation:\n",
              "      spin 1s steps(1) infinite;\n",
              "  }\n",
              "\n",
              "  @keyframes spin {\n",
              "    0% {\n",
              "      border-color: transparent;\n",
              "      border-bottom-color: var(--fill-color);\n",
              "      border-left-color: var(--fill-color);\n",
              "    }\n",
              "    20% {\n",
              "      border-color: transparent;\n",
              "      border-left-color: var(--fill-color);\n",
              "      border-top-color: var(--fill-color);\n",
              "    }\n",
              "    30% {\n",
              "      border-color: transparent;\n",
              "      border-left-color: var(--fill-color);\n",
              "      border-top-color: var(--fill-color);\n",
              "      border-right-color: var(--fill-color);\n",
              "    }\n",
              "    40% {\n",
              "      border-color: transparent;\n",
              "      border-right-color: var(--fill-color);\n",
              "      border-top-color: var(--fill-color);\n",
              "    }\n",
              "    60% {\n",
              "      border-color: transparent;\n",
              "      border-right-color: var(--fill-color);\n",
              "    }\n",
              "    80% {\n",
              "      border-color: transparent;\n",
              "      border-right-color: var(--fill-color);\n",
              "      border-bottom-color: var(--fill-color);\n",
              "    }\n",
              "    90% {\n",
              "      border-color: transparent;\n",
              "      border-bottom-color: var(--fill-color);\n",
              "    }\n",
              "  }\n",
              "</style>\n",
              "\n",
              "  <script>\n",
              "    async function quickchart(key) {\n",
              "      const quickchartButtonEl =\n",
              "        document.querySelector('#' + key + ' button');\n",
              "      quickchartButtonEl.disabled = true;  // To prevent multiple clicks.\n",
              "      quickchartButtonEl.classList.add('colab-df-spinner');\n",
              "      try {\n",
              "        const charts = await google.colab.kernel.invokeFunction(\n",
              "            'suggestCharts', [key], {});\n",
              "      } catch (error) {\n",
              "        console.error('Error during call to suggestCharts:', error);\n",
              "      }\n",
              "      quickchartButtonEl.classList.remove('colab-df-spinner');\n",
              "      quickchartButtonEl.classList.add('colab-df-quickchart-complete');\n",
              "    }\n",
              "    (() => {\n",
              "      let quickchartButtonEl =\n",
              "        document.querySelector('#df-374eec0b-f6ab-409a-a855-79908b3b4540 button');\n",
              "      quickchartButtonEl.style.display =\n",
              "        google.colab.kernel.accessAllowed ? 'block' : 'none';\n",
              "    })();\n",
              "  </script>\n",
              "</div>\n",
              "\n",
              "    </div>\n",
              "  </div>\n"
            ],
            "application/vnd.google.colaboratory.intrinsic+json": {
              "type": "dataframe",
              "variable_name": "df_test",
              "summary": "{\n  \"name\": \"df_test\",\n  \"rows\": 544,\n  \"fields\": [\n    {\n      \"column\": \"Id\",\n      \"properties\": {\n        \"dtype\": \"string\",\n        \"num_unique_values\": 544,\n        \"samples\": [\n          \"PS_458\",\n          \"PS_258\",\n          \"PS_358\"\n        ],\n        \"semantic_type\": \"\",\n        \"description\": \"\"\n      }\n    },\n    {\n      \"column\": \"content\",\n      \"properties\": {\n        \"dtype\": \"string\",\n        \"num_unique_values\": 538,\n        \"samples\": [\n          \"\\u0b95\\u0bb0\\u0bc1\\u0ba3\\u0bbe\\u0ba8\\u0bbf\\u0ba4\\u0bbf\\u0baf\\u0bbf\\u0ba9\\u0bcd \\u0b9a\\u0bbe\\u0bb0\\u0bbe\\u0baf\\u0b95\\u0bcd \\u0b95\\u0b9f\\u0bc8 \\u0bae\\u0bc2\\u0b9f\\u0baa\\u0bcd\\u0baa\\u0b9f\\u0bc1\\u0bae\\u0bcd . \\n\\n\\u0bae\\u0bbe\\u0b9f\\u0bcd\\u0b9f\\u0bc1\\u0b95\\u0bcd\\u0b95\\u0bb1\\u0bbf\\u0baf\\u0bc1\\u0b9f\\u0ba9\\u0bcd \\u0baa\\u0ba9\\u0bae\\u0bcd\\u0baa\\u0bbe\\u0bb2\\u0bcd \\u0ba4\\u0bc6\\u0ba9\\u0bcd\\u0ba9\\u0bae\\u0bcd\\u0baa\\u0bbe\\u0bb2\\u0bcd \\u0bb5\\u0bbf\\u0bb0\\u0bc1\\u0ba8\\u0bcd\\u0ba4\\u0bc1 . \\n\\n#\\u0bae\\u0b95\\u0bcd\\u0b95\\u0bb3\\u0bbf\\u0ba9\\u0bcd_\\u0b9a\\u0bbf\\u0ba9\\u0bcd\\u0ba9\\u0bae\\u0bcd_\\u0bae\\u0bc8\\u0b95\\u0bcd\\n#Mike_VoiceOfPeople\\n#Elections2024 \",\n          \"\\u0b9a\\u0bc0\\u0bae\\u0bbe\\u0ba9\\u0bcd \\u0b85\\u0ba9\\u0bc8\\u0bb5\\u0bb0\\u0bc1\\u0b9f\\u0ba9\\u0bc1\\u0bae\\u0bcd \\u0b92\\u0bb0\\u0bc1\\u0b99\\u0bcd\\u0b95\\u0bbf\\u0ba3\\u0bc8\\u0baf\\u0ba3\\u0bc1\\u0bae\\u0bcd.. \\u0ba4\\u0ba9\\u0bbf\\u0baf\\u0bbe\\u0b95 \\u0ba8\\u0bbf\\u0bb1\\u0bcd\\u0b95 \\u0bb5\\u0bc7\\u0ba3\\u0bcd\\u0b9f\\u0bbf\\u0baf\\u0ba4\\u0bbf\\u0bb2\\u0bcd\\u0bb2  - Jaya Prakash Interview | \\u0ba4\\u0bae\\u0bbf\\u0bb4\\u0bb0\\u0bcd \\u0bae\\u0bc1\\u0ba9\\u0bcd\\u0ba9\\u0ba3\\u0bbf  | NTK |  Seeman  \\n\\n\\u0bae\\u0bc1\\u0bb4\\u0bc1 \\u0baa\\u0bc7\\u0b9f\\u0bcd\\u0b9f\\u0bbf\\u25b6  \\n\\n#Seeman #NTK #\\u0b9a\\u0bc0\\u0bae\\u0bbe\\u0ba9\\u0bcd\",\n          \"\\u0b9a\\u0bbe\\u0ba4\\u0bbf\\u0baf\\u0bc8 \\u0ba4\\u0bc2\\u0b95\\u0bcd\\u0b95\\u0bbf \\u0baa\\u0bbf\\u0b9f\\u0bbf\\u0ba4\\u0bcd\\u0ba4\\u0bc1 \\u0baa\\u0bcb\\u0bb1\\u0bcd\\u0bb1\\u0bc1\\u0bb5\\u0bcb\\u0bae\\u0bcd.. #\\u0ba4\\u0bbf\\u0bb0\\u0bbe\\u0bb5\\u0bbf\\u0b9f\\u0bae\\u0bbe\\u0b9f\\u0bb2\\u0bcd\\u0baa\\u0bb0\\u0bbf\\u0ba4\\u0bbe\\u0baa\\u0b99\\u0bcd\\u0b95\\u0bb3\\u0bcd\"\n        ],\n        \"semantic_type\": \"\",\n        \"description\": \"\"\n      }\n    }\n  ]\n}"
            }
          },
          "metadata": {},
          "execution_count": 6
        }
      ]
    },
    {
      "cell_type": "code",
      "source": [
        "print(df_train['labels'].value_counts())"
      ],
      "metadata": {
        "colab": {
          "base_uri": "https://localhost:8080/"
        },
        "id": "2L6qQp0g9tEU",
        "outputId": "1cd52647-c89f-4f84-fe7d-096af9319861"
      },
      "execution_count": null,
      "outputs": [
        {
          "output_type": "stream",
          "name": "stdout",
          "text": [
            "labels\n",
            "Opinionated          1361\n",
            "Sarcastic             790\n",
            "Neutral               637\n",
            "Positive              575\n",
            "Substantiated         412\n",
            "Negative              406\n",
            "None of the above     171\n",
            "Name: count, dtype: int64\n"
          ]
        }
      ]
    },
    {
      "cell_type": "code",
      "source": [
        "print(df_ev['labels'].value_counts())"
      ],
      "metadata": {
        "colab": {
          "base_uri": "https://localhost:8080/"
        },
        "id": "q35lrPv6-SFI",
        "outputId": "d877aec3-521b-4b2a-87aa-d71c96c00865"
      },
      "execution_count": null,
      "outputs": [
        {
          "output_type": "stream",
          "name": "stdout",
          "text": [
            "labels\n",
            "Opinionated          153\n",
            "Sarcastic            115\n",
            "Neutral               84\n",
            "Positive              69\n",
            "Substantiated         52\n",
            "Negative              51\n",
            "None of the above     20\n",
            "Name: count, dtype: int64\n"
          ]
        }
      ]
    },
    {
      "cell_type": "code",
      "source": [
        "print(df_test['labels'].value_counts())"
      ],
      "metadata": {
        "colab": {
          "base_uri": "https://localhost:8080/"
        },
        "id": "p2FalNec0k3-",
        "outputId": "64ce1268-1fb0-4310-b744-bded6d6195ab"
      },
      "execution_count": null,
      "outputs": [
        {
          "output_type": "stream",
          "name": "stdout",
          "text": [
            "labels\n",
            "Opinionated          171\n",
            "Sarcastic            106\n",
            "Positive              75\n",
            "Neutral               70\n",
            "Substantiated         51\n",
            "Negative              46\n",
            "None of the above     25\n",
            "Name: count, dtype: int64\n"
          ]
        }
      ]
    },
    {
      "cell_type": "code",
      "source": [
        "def synonym_replacement(sentence, n=1):\n",
        "    words = sentence.split()\n",
        "    for _ in range(n):\n",
        "        word_to_replace = random.choice(words)\n",
        "        synonyms = wordnet.synsets(word_to_replace)\n",
        "        if synonyms:\n",
        "            synonym = synonyms[0].lemmas()[0].name()\n",
        "            words[words.index(word_to_replace)] = synonym\n",
        "    return ' '.join(words)\n",
        "\n",
        "df_train['augmented_content'] = df_train['content'].apply(lambda x: synonym_replacement(x, n=2))\n",
        "\n",
        "df_combined = pd.concat([\n",
        "    df_train[['content', 'labels']],\n",
        "    df_train[['augmented_content', 'labels']].rename(columns={'augmented_content': 'content'})\n",
        "], ignore_index=True)\n",
        "\n",
        "print(df_combined.shape)\n",
        "print(df_combined.head())"
      ],
      "metadata": {
        "id": "TP_TcM8m_hlZ",
        "colab": {
          "base_uri": "https://localhost:8080/"
        },
        "outputId": "56a59bbf-ef60-4600-c8ac-0b7b3a347cc8"
      },
      "execution_count": null,
      "outputs": [
        {
          "output_type": "stream",
          "name": "stdout",
          "text": [
            "(8704, 2)\n",
            "                                             content         labels\n",
            "0  தென்காசி தொகுதி புதிய தமிழகம் கட்சி வேட்பாளர் ...        Neutral\n",
            "1  அண்ணன் இதனை சூசகமாக 11 மாதங்கள் முன்பே பேட்டிய...  Substantiated\n",
            "2  ஒரு வருடம் ஆகி விட்டது இந்த துயரம் நேர்ந்து......    Opinionated\n",
            "3  எடப்பாடியை கண்டுகொள்ளாத \"எடப்பாடி\"🫢\\n ---\\nஆதர...       Positive\n",
            "4  எங்களின் அரசியல் அடுத்த தலைமுறைக்குமானது \\n#மக...    Opinionated\n"
          ]
        }
      ]
    },
    {
      "cell_type": "code",
      "source": [
        "#checking duplicate tweets in training data\n",
        "duplicate_tweets_train = df_combined[df_combined.duplicated(subset=['content'])]\n",
        "if not duplicate_tweets_train.empty:\n",
        "  print(\"duplicate tweets found in combined data\")\n",
        "else:\n",
        "  print(\"duplicate tweets not found in combined data\")"
      ],
      "metadata": {
        "colab": {
          "base_uri": "https://localhost:8080/"
        },
        "id": "-nIvuP5E_t5F",
        "outputId": "cd664eba-a9a7-43ac-cc74-e57cd7118cbc"
      },
      "execution_count": null,
      "outputs": [
        {
          "output_type": "stream",
          "name": "stdout",
          "text": [
            "duplicate tweets found in combined data\n"
          ]
        }
      ]
    },
    {
      "cell_type": "code",
      "source": [
        "#removing duplicate tweets from training data\n",
        "cleaned_train = df_combined.drop_duplicates(subset=['content'], keep='first')\n",
        "cleaned_train.shape"
      ],
      "metadata": {
        "colab": {
          "base_uri": "https://localhost:8080/"
        },
        "id": "9Be19wb3A3WT",
        "outputId": "71e8184f-5828-4d8a-dee7-dd01352b18af"
      },
      "execution_count": null,
      "outputs": [
        {
          "output_type": "execute_result",
          "data": {
            "text/plain": [
              "(7972, 2)"
            ]
          },
          "metadata": {},
          "execution_count": 6
        }
      ]
    },
    {
      "cell_type": "code",
      "source": [
        "#checking duplicate tweets in evaluation data\n",
        "duplicate_tweets_ev = df_ev[df_ev.duplicated(subset=['content'])]\n",
        "if not duplicate_tweets_ev.empty:\n",
        "  print(\"duplicate tweets found in evaluation data\")\n",
        "else:\n",
        "  print(\"duplicate tweets not found in evaluation data\")"
      ],
      "metadata": {
        "colab": {
          "base_uri": "https://localhost:8080/"
        },
        "id": "57zke1zZCEv2",
        "outputId": "eb09bf9d-d8a3-4ae6-ae94-a40713ad06ab"
      },
      "execution_count": null,
      "outputs": [
        {
          "output_type": "stream",
          "name": "stdout",
          "text": [
            "duplicate tweets found in evaluation data\n"
          ]
        }
      ]
    },
    {
      "cell_type": "code",
      "source": [
        "#removing duplicate tweets from evaluation data\n",
        "cleaned_ev = df_ev.drop_duplicates(subset=['content'], keep='first')\n",
        "cleaned_ev.shape"
      ],
      "metadata": {
        "colab": {
          "base_uri": "https://localhost:8080/"
        },
        "id": "Rmvy1EksCKwV",
        "outputId": "cfd2bcf4-3eaf-44dc-de3b-c8f0635db6df"
      },
      "execution_count": null,
      "outputs": [
        {
          "output_type": "execute_result",
          "data": {
            "text/plain": [
              "(540, 2)"
            ]
          },
          "metadata": {},
          "execution_count": 7
        }
      ]
    },
    {
      "cell_type": "code",
      "source": [
        "sns.countplot(x = 'labels', data = cleaned_train)\n",
        "plt.title('Label distribution in training data')\n",
        "plt.xticks(ticks=range(len(cleaned_train['labels'].unique())), labels=cleaned_train['labels'].unique(), fontsize=12, rotation=45, ha='right', rotation_mode='anchor')\n",
        "plt.show()"
      ],
      "metadata": {
        "colab": {
          "base_uri": "https://localhost:8080/",
          "height": 579
        },
        "id": "5Y3ryEvTC_fi",
        "outputId": "c0832a6c-9caf-4098-8893-eaf56dfb93c6"
      },
      "execution_count": null,
      "outputs": [
        {
          "output_type": "display_data",
          "data": {
            "text/plain": [
              "<Figure size 640x480 with 1 Axes>"
            ],
            "image/png": "[encoded data removed]"
          },
          "metadata": {}
        }
      ]
    },
    {
      "cell_type": "code",
      "source": [
        "print(cleaned_train['labels'].value_counts())"
      ],
      "metadata": {
        "colab": {
          "base_uri": "https://localhost:8080/"
        },
        "id": "EcNI0Hk0HAkg",
        "outputId": "424fc009-e352-4ba9-c702-c83e5da19e94"
      },
      "execution_count": null,
      "outputs": [
        {
          "output_type": "stream",
          "name": "stdout",
          "text": [
            "labels\n",
            "Opinionated          2542\n",
            "Sarcastic            1445\n",
            "Neutral              1182\n",
            "Positive             1051\n",
            "Substantiated         775\n",
            "Negative              750\n",
            "None of the above     223\n",
            "Name: count, dtype: int64\n"
          ]
        }
      ]
    },
    {
      "cell_type": "code",
      "source": [
        "ros = RandomOverSampler(random_state=42)\n",
        "X_resampled, y_resampled = ros.fit_resample(cleaned_train[['content']], cleaned_train['labels'])\n",
        "cleaned_train = pd.DataFrame({'content': X_resampled['content'], 'labels': y_resampled})\n",
        "print(cleaned_train['labels'].value_counts())"
      ],
      "metadata": {
        "colab": {
          "base_uri": "https://localhost:8080/"
        },
        "id": "jmxfNUVVGVsz",
        "outputId": "09eb3d1e-3709-470a-dc78-5a2986775a14"
      },
      "execution_count": null,
      "outputs": [
        {
          "output_type": "stream",
          "name": "stdout",
          "text": [
            "labels\n",
            "Neutral              2544\n",
            "Substantiated        2544\n",
            "Opinionated          2544\n",
            "Positive             2544\n",
            "Sarcastic            2544\n",
            "Negative             2544\n",
            "None of the above    2544\n",
            "Name: count, dtype: int64\n"
          ]
        }
      ]
    },
    {
      "cell_type": "code",
      "source": [
        "print(cleaned_train.shape)"
      ],
      "metadata": {
        "colab": {
          "base_uri": "https://localhost:8080/"
        },
        "id": "G0_OuA4NHtli",
        "outputId": "706a7da8-a883-40d4-8003-d148fe00ba58"
      },
      "execution_count": null,
      "outputs": [
        {
          "output_type": "stream",
          "name": "stdout",
          "text": [
            "(17794, 2)\n"
          ]
        }
      ]
    },
    {
      "cell_type": "code",
      "source": [
        "from bs4 import BeautifulSoup"
      ],
      "metadata": {
        "id": "vZKMZNP4dZba"
      },
      "execution_count": null,
      "outputs": []
    },
    {
      "cell_type": "code",
      "source": [
        "def text_preprocessing(text):\n",
        "    text = re.sub(r'http\\S+|www\\S+', '', text)  # Remove URLs\n",
        "    text = re.sub(r'[^\\w\\s]', '', text)  # Remove punctuation and special characters\n",
        "    text = text.lower()  # Convert to lowercase\n",
        "    text = re.sub(r'\\d+', '', text)  # Remove numbers\n",
        "    text = re.sub(r'@\\w+', '', text)  # Remove @mentions\n",
        "    text = re.sub(r'#\\w+', '', text)  # Remove hashtags\n",
        "    text = BeautifulSoup(text, 'html.parser').get_text()\n",
        "    emoji_pattern = re.compile(\"[\"\n",
        "                               u\"\\U0001F600-\\U0001F64F\"  # emoticons\n",
        "                               u\"\\U0001F300-\\U0001F5FF\"  # symbols & pictographs\n",
        "                               u\"\\U0001F680-\\U0001F6FF\"  # transport & map symbols\n",
        "                               u\"\\U0001F700-\\U0001F77F\"  # alchemical symbols\n",
        "                               u\"\\U0001F1E0-\\U0001F1FF\"\n",
        "                               u\"\\U00002702-\\U000027B0\"\n",
        "                               u\"\\U000024C2-\\U0001F251\"\n",
        "                               \"]+\", flags=re.UNICODE)\n",
        "    text = emoji_pattern.sub(r'', text)  # Remove emojis\n",
        "    text = ' '.join(text.split())  # Clean extra spaces\n",
        "\n",
        "    return text\n"
      ],
      "metadata": {
        "id": "epTOScgsZyAR"
      },
      "execution_count": null,
      "outputs": []
    },
    {
      "cell_type": "code",
      "source": [
        "cleaned_train['cleaned_tweet'] = cleaned_train['content'].apply(text_preprocessing)\n",
        "cleaned_ev['cleaned_tweet'] = cleaned_ev['content'].apply(text_preprocessing)\n",
        "df_test['cleaned_tweet'] = df_test['content'].apply(text_preprocessing)"
      ],
      "metadata": {
        "colab": {
          "base_uri": "https://localhost:8080/"
        },
        "id": "yaZz2BSQy_jZ",
        "outputId": "69417fde-95b0-49cb-dcb9-d080eb26e93d"
      },
      "execution_count": null,
      "outputs": [
        {
          "output_type": "stream",
          "name": "stderr",
          "text": [
            "<ipython-input-11-caedc0d93696>:2: SettingWithCopyWarning: \n",
            "A value is trying to be set on a copy of a slice from a DataFrame.\n",
            "Try using .loc[row_indexer,col_indexer] = value instead\n",
            "\n",
            "See the caveats in the documentation: https://pandas.pydata.org/pandas-docs/stable/user_guide/indexing.html#returning-a-view-versus-a-copy\n",
            "  cleaned_ev['cleaned_tweet'] = cleaned_ev['content'].apply(text_preprocessing)\n"
          ]
        }
      ]
    },
    {
      "cell_type": "code",
      "source": [
        "cleaned_train.head()"
      ],
      "metadata": {
        "colab": {
          "base_uri": "https://localhost:8080/",
          "height": 206
        },
        "id": "IGRoB4dL1ipe",
        "outputId": "bcad2c5f-473e-4b5a-9770-52a7a8777900"
      },
      "execution_count": null,
      "outputs": [
        {
          "output_type": "execute_result",
          "data": {
            "text/plain": [
              "                                             content         labels  \\\n",
              "0  தென்காசி தொகுதி புதிய தமிழகம் கட்சி வேட்பாளர் ...        Neutral   \n",
              "1  அண்ணன் இதனை சூசகமாக 11 மாதங்கள் முன்பே பேட்டிய...  Substantiated   \n",
              "2  ஒரு வருடம் ஆகி விட்டது இந்த துயரம் நேர்ந்து......    Opinionated   \n",
              "3  எடப்பாடியை கண்டுகொள்ளாத \"எடப்பாடி\"🫢\\n ---\\nஆதர...       Positive   \n",
              "4  எங்களின் அரசியல் அடுத்த தலைமுறைக்குமானது \\n#மக...    Opinionated   \n",
              "\n",
              "                                       cleaned_tweet  \n",
              "0  தனகச தகத பதய தமழகம கடச வடபளர டகடர கரஷணசமய ஆதரத...  \n",
              "1              அணணன இதன சசகமக மதஙகள மனப படடயல சலலடடர  \n",
              "2  ஒர வரடம ஆக வடடத இநத தயரம நரநத இனறவர ஒர ஆணய கட ...  \n",
              "3  எடபபடய கணடகளளத எடபபட ஆதரபபர உதயசரயன மககளனகரல ஓ...  \n",
              "4           எஙகளன அரசயல அடதத தலமறககமனத மககளன_சனனம_மக  "
            ],
            "text/html": [
              "\n",
              "  <div id=\"df-33d37989-f917-441e-97de-76b6b523baa1\" class=\"colab-df-container\">\n",
              "    <div>\n",
              "<style scoped>\n",
              "    .dataframe tbody tr th:only-of-type {\n",
              "        vertical-align: middle;\n",
              "    }\n",
              "\n",
              "    .dataframe tbody tr th {\n",
              "        vertical-align: top;\n",
              "    }\n",
              "\n",
              "    .dataframe thead th {\n",
              "        text-align: right;\n",
              "    }\n",
              "</style>\n",
              "<table border=\"1\" class=\"dataframe\">\n",
              "  <thead>\n",
              "    <tr style=\"text-align: right;\">\n",
              "      <th></th>\n",
              "      <th>content</th>\n",
              "      <th>labels</th>\n",
              "      <th>cleaned_tweet</th>\n",
              "    </tr>\n",
              "  </thead>\n",
              "  <tbody>\n",
              "    <tr>\n",
              "      <th>0</th>\n",
              "      <td>தென்காசி தொகுதி புதிய தமிழகம் கட்சி வேட்பாளர் ...</td>\n",
              "      <td>Neutral</td>\n",
              "      <td>தனகச தகத பதய தமழகம கடச வடபளர டகடர கரஷணசமய ஆதரத...</td>\n",
              "    </tr>\n",
              "    <tr>\n",
              "      <th>1</th>\n",
              "      <td>அண்ணன் இதனை சூசகமாக 11 மாதங்கள் முன்பே பேட்டிய...</td>\n",
              "      <td>Substantiated</td>\n",
              "      <td>அணணன இதன சசகமக மதஙகள மனப படடயல சலலடடர</td>\n",
              "    </tr>\n",
              "    <tr>\n",
              "      <th>2</th>\n",
              "      <td>ஒரு வருடம் ஆகி விட்டது இந்த துயரம் நேர்ந்து......</td>\n",
              "      <td>Opinionated</td>\n",
              "      <td>ஒர வரடம ஆக வடடத இநத தயரம நரநத இனறவர ஒர ஆணய கட ...</td>\n",
              "    </tr>\n",
              "    <tr>\n",
              "      <th>3</th>\n",
              "      <td>எடப்பாடியை கண்டுகொள்ளாத \"எடப்பாடி\"🫢\\n ---\\nஆதர...</td>\n",
              "      <td>Positive</td>\n",
              "      <td>எடபபடய கணடகளளத எடபபட ஆதரபபர உதயசரயன மககளனகரல ஓ...</td>\n",
              "    </tr>\n",
              "    <tr>\n",
              "      <th>4</th>\n",
              "      <td>எங்களின் அரசியல் அடுத்த தலைமுறைக்குமானது \\n#மக...</td>\n",
              "      <td>Opinionated</td>\n",
              "      <td>எஙகளன அரசயல அடதத தலமறககமனத மககளன_சனனம_மக</td>\n",
              "    </tr>\n",
              "  </tbody>\n",
              "</table>\n",
              "</div>\n",
              "    <div class=\"colab-df-buttons\">\n",
              "\n",
              "  <div class=\"colab-df-container\">\n",
              "    <button class=\"colab-df-convert\" onclick=\"convertToInteractive('df-33d37989-f917-441e-97de-76b6b523baa1')\"\n",
              "            title=\"Convert this dataframe to an interactive table.\"\n",
              "            style=\"display:none;\">\n",
              "\n",
              "  <svg xmlns=\"http://www.w3.org/2000/svg\" height=\"24px\" viewBox=\"0 -960 960 960\">\n",
              "    <path d=\"M120-120v-720h720v720H120Zm60-500h600v-160H180v160Zm220 220h160v-160H400v160Zm0 220h160v-160H400v160ZM180-400h160v-160H180v160Zm440 0h160v-160H620v160ZM180-180h160v-160H180v160Zm440 0h160v-160H620v160Z\"/>\n",
              "  </svg>\n",
              "    </button>\n",
              "\n",
              "  <style>\n",
              "    .colab-df-container {\n",
              "      display:flex;\n",
              "      gap: 12px;\n",
              "    }\n",
              "\n",
              "    .colab-df-convert {\n",
              "      background-color: #E8F0FE;\n",
              "      border: none;\n",
              "      border-radius: 50%;\n",
              "      cursor: pointer;\n",
              "      display: none;\n",
              "      fill: #1967D2;\n",
              "      height: 32px;\n",
              "      padding: 0 0 0 0;\n",
              "      width: 32px;\n",
              "    }\n",
              "\n",
              "    .colab-df-convert:hover {\n",
              "      background-color: #E2EBFA;\n",
              "      box-shadow: 0px 1px 2px rgba(60, 64, 67, 0.3), 0px 1px 3px 1px rgba(60, 64, 67, 0.15);\n",
              "      fill: #174EA6;\n",
              "    }\n",
              "\n",
              "    .colab-df-buttons div {\n",
              "      margin-bottom: 4px;\n",
              "    }\n",
              "\n",
              "    [theme=dark] .colab-df-convert {\n",
              "      background-color: #3B4455;\n",
              "      fill: #D2E3FC;\n",
              "    }\n",
              "\n",
              "    [theme=dark] .colab-df-convert:hover {\n",
              "      background-color: #434B5C;\n",
              "      box-shadow: 0px 1px 3px 1px rgba(0, 0, 0, 0.15);\n",
              "      filter: drop-shadow(0px 1px 2px rgba(0, 0, 0, 0.3));\n",
              "      fill: #FFFFFF;\n",
              "    }\n",
              "  </style>\n",
              "\n",
              "    <script>\n",
              "      const buttonEl =\n",
              "        document.querySelector('#df-33d37989-f917-441e-97de-76b6b523baa1 button.colab-df-convert');\n",
              "      buttonEl.style.display =\n",
              "        google.colab.kernel.accessAllowed ? 'block' : 'none';\n",
              "\n",
              "      async function convertToInteractive(key) {\n",
              "        const element = document.querySelector('#df-33d37989-f917-441e-97de-76b6b523baa1');\n",
              "        const dataTable =\n",
              "          await google.colab.kernel.invokeFunction('convertToInteractive',\n",
              "                                                    [key], {});\n",
              "        if (!dataTable) return;\n",
              "\n",
              "        const docLinkHtml = 'Like what you see? Visit the ' +\n",
              "          '<a target=\"_blank\" href=https://colab.research.google.com/notebooks/data_table.ipynb>data table notebook</a>'\n",
              "          + ' to learn more about interactive tables.';\n",
              "        element.innerHTML = '';\n",
              "        dataTable['output_type'] = 'display_data';\n",
              "        await google.colab.output.renderOutput(dataTable, element);\n",
              "        const docLink = document.createElement('div');\n",
              "        docLink.innerHTML = docLinkHtml;\n",
              "        element.appendChild(docLink);\n",
              "      }\n",
              "    </script>\n",
              "  </div>\n",
              "\n",
              "\n",
              "<div id=\"df-2fe38475-d880-4888-9cf2-faae955fc8e6\">\n",
              "  <button class=\"colab-df-quickchart\" onclick=\"quickchart('df-2fe38475-d880-4888-9cf2-faae955fc8e6')\"\n",
              "            title=\"Suggest charts\"\n",
              "            style=\"display:none;\">\n",
              "\n",
              "<svg xmlns=\"http://www.w3.org/2000/svg\" height=\"24px\"viewBox=\"0 0 24 24\"\n",
              "     width=\"24px\">\n",
              "    <g>\n",
              "        <path d=\"M19 3H5c-1.1 0-2 .9-2 2v14c0 1.1.9 2 2 2h14c1.1 0 2-.9 2-2V5c0-1.1-.9-2-2-2zM9 17H7v-7h2v7zm4 0h-2V7h2v10zm4 0h-2v-4h2v4z\"/>\n",
              "    </g>\n",
              "</svg>\n",
              "  </button>\n",
              "\n",
              "<style>\n",
              "  .colab-df-quickchart {\n",
              "      --bg-color: #E8F0FE;\n",
              "      --fill-color: #1967D2;\n",
              "      --hover-bg-color: #E2EBFA;\n",
              "      --hover-fill-color: #174EA6;\n",
              "      --disabled-fill-color: #AAA;\n",
              "      --disabled-bg-color: #DDD;\n",
              "  }\n",
              "\n",
              "  [theme=dark] .colab-df-quickchart {\n",
              "      --bg-color: #3B4455;\n",
              "      --fill-color: #D2E3FC;\n",
              "      --hover-bg-color: #434B5C;\n",
              "      --hover-fill-color: #FFFFFF;\n",
              "      --disabled-bg-color: #3B4455;\n",
              "      --disabled-fill-color: #666;\n",
              "  }\n",
              "\n",
              "  .colab-df-quickchart {\n",
              "    background-color: var(--bg-color);\n",
              "    border: none;\n",
              "    border-radius: 50%;\n",
              "    cursor: pointer;\n",
              "    display: none;\n",
              "    fill: var(--fill-color);\n",
              "    height: 32px;\n",
              "    padding: 0;\n",
              "    width: 32px;\n",
              "  }\n",
              "\n",
              "  .colab-df-quickchart:hover {\n",
              "    background-color: var(--hover-bg-color);\n",
              "    box-shadow: 0 1px 2px rgba(60, 64, 67, 0.3), 0 1px 3px 1px rgba(60, 64, 67, 0.15);\n",
              "    fill: var(--button-hover-fill-color);\n",
              "  }\n",
              "\n",
              "  .colab-df-quickchart-complete:disabled,\n",
              "  .colab-df-quickchart-complete:disabled:hover {\n",
              "    background-color: var(--disabled-bg-color);\n",
              "    fill: var(--disabled-fill-color);\n",
              "    box-shadow: none;\n",
              "  }\n",
              "\n",
              "  .colab-df-spinner {\n",
              "    border: 2px solid var(--fill-color);\n",
              "    border-color: transparent;\n",
              "    border-bottom-color: var(--fill-color);\n",
              "    animation:\n",
              "      spin 1s steps(1) infinite;\n",
              "  }\n",
              "\n",
              "  @keyframes spin {\n",
              "    0% {\n",
              "      border-color: transparent;\n",
              "      border-bottom-color: var(--fill-color);\n",
              "      border-left-color: var(--fill-color);\n",
              "    }\n",
              "    20% {\n",
              "      border-color: transparent;\n",
              "      border-left-color: var(--fill-color);\n",
              "      border-top-color: var(--fill-color);\n",
              "    }\n",
              "    30% {\n",
              "      border-color: transparent;\n",
              "      border-left-color: var(--fill-color);\n",
              "      border-top-color: var(--fill-color);\n",
              "      border-right-color: var(--fill-color);\n",
              "    }\n",
              "    40% {\n",
              "      border-color: transparent;\n",
              "      border-right-color: var(--fill-color);\n",
              "      border-top-color: var(--fill-color);\n",
              "    }\n",
              "    60% {\n",
              "      border-color: transparent;\n",
              "      border-right-color: var(--fill-color);\n",
              "    }\n",
              "    80% {\n",
              "      border-color: transparent;\n",
              "      border-right-color: var(--fill-color);\n",
              "      border-bottom-color: var(--fill-color);\n",
              "    }\n",
              "    90% {\n",
              "      border-color: transparent;\n",
              "      border-bottom-color: var(--fill-color);\n",
              "    }\n",
              "  }\n",
              "</style>\n",
              "\n",
              "  <script>\n",
              "    async function quickchart(key) {\n",
              "      const quickchartButtonEl =\n",
              "        document.querySelector('#' + key + ' button');\n",
              "      quickchartButtonEl.disabled = true;  // To prevent multiple clicks.\n",
              "      quickchartButtonEl.classList.add('colab-df-spinner');\n",
              "      try {\n",
              "        const charts = await google.colab.kernel.invokeFunction(\n",
              "            'suggestCharts', [key], {});\n",
              "      } catch (error) {\n",
              "        console.error('Error during call to suggestCharts:', error);\n",
              "      }\n",
              "      quickchartButtonEl.classList.remove('colab-df-spinner');\n",
              "      quickchartButtonEl.classList.add('colab-df-quickchart-complete');\n",
              "    }\n",
              "    (() => {\n",
              "      let quickchartButtonEl =\n",
              "        document.querySelector('#df-2fe38475-d880-4888-9cf2-faae955fc8e6 button');\n",
              "      quickchartButtonEl.style.display =\n",
              "        google.colab.kernel.accessAllowed ? 'block' : 'none';\n",
              "    })();\n",
              "  </script>\n",
              "</div>\n",
              "\n",
              "    </div>\n",
              "  </div>\n"
            ],
            "application/vnd.google.colaboratory.intrinsic+json": {
              "type": "dataframe",
              "variable_name": "cleaned_train",
              "summary": "{\n  \"name\": \"cleaned_train\",\n  \"rows\": 17808,\n  \"fields\": [\n    {\n      \"column\": \"content\",\n      \"properties\": {\n        \"dtype\": \"category\",\n        \"num_unique_values\": 7964,\n        \"samples\": [\n          \"\\u0b89\\u0baf\\u0bbf\\u0bb0\\u0bcd \\u0b89\\u0ba3\\u0bb0\\u0bcd\\u0b9a\\u0bcd\\u0b9a\\u0bbf\",\n          \"\\\"\\u0b95\\u0bbe\\u0bb2\\u0bae\\u0bcd \\u0bae\\u0bb2\\u0bc8\\u0baf\\u0bc7\\u0bb1\\u0bbf\\u0bb5\\u0bbf\\u0b9f\\u0bcd\\u0b9f\\u0ba4\\u0bc1\\\"\\n#Annamalai #modi #BJPManifesto #stalin #dmk \",\n          \"\\u0bb5\\u0bc6\\u0b9f\\u0bcd\\u0b95\\u0bae\\u0bbe \\u0b87\\u0bb2\\u0bcd\\u0bb2\\u0bc8\\u0baf\\u0bbe...? \\u0bb8\\u0bcd\\u0b9f\\u0bbe\\u0bb2\\u0bbf\\u0ba9\\u0bc8\\u0ba4\\u0bcd \\u0ba4\\u0bbe\\u0ba9\\u0bcd \\u0b9a\\u0bca\\u0bb2\\u0bcd\\u0bb1\\u0bc7\\u0ba9\\u0bcd ; \\u0b85\\u0ba3\\u0bcd\\u0ba3\\u0bbe\\u0bae\\u0bb2\\u0bc8 \\u0ba4\\u0bbf\\u0b9f\\u0bc0\\u0bb0\\u0bcd \\u0b86\\u0bb5\\u0bc7\\u0b9a\\u0bae\\u0bcd..!!\\n#trending #BJP #annamalai #coimbatore #dmk #mkstalin #aiadmk #reporter #pressmeet #electioncampaign #loksabhaelection2024 #parliamentaryelection2024 #updatenews360\\n \"\n        ],\n        \"semantic_type\": \"\",\n        \"description\": \"\"\n      }\n    },\n    {\n      \"column\": \"labels\",\n      \"properties\": {\n        \"dtype\": \"category\",\n        \"num_unique_values\": 7,\n        \"samples\": [\n          \"Neutral\",\n          \"Substantiated\",\n          \"Negative\"\n        ],\n        \"semantic_type\": \"\",\n        \"description\": \"\"\n      }\n    },\n    {\n      \"column\": \"cleaned_tweet\",\n      \"properties\": {\n        \"dtype\": \"category\",\n        \"num_unique_values\": 4142,\n        \"samples\": [\n          \"\\u0baa\\u0b9c\\u0b95\\u0ba4\\u0ba9 \\u0b8e\\u0ba9\\u0ba9\\u0b9f\\u0baf b \\u0b9f\\u0bae\\u0baa\\u0bb0\\u0baa\\u0bb0\\u0baa\\u0baa \\u0b95\\u0bb3\\u0baa\\u0baa\\u0baf \\u0b9a\\u0bae\\u0ba9 ntk seeman naamtamilarkatchi bjp election electioncampaign loksabhaelection newstamilx\",\n          \"\\u0b89\\u0b9a\\u0b9a \\u0bb5\\u0baf\\u0bb2\\u0bb2 \\u0b85\\u0ba9\\u0bb2 \\u0ba4\\u0bb1\\u0b95\\u0b95 \\u0b9a\\u0bae\\u0ba9 \\u0b95\\u0b9f\\u0b95\\u0bae \\u0b92\\u0bb5\\u0bb5\\u0bb0 \\u0b95\\u0bb3\\u0bb5\\u0baf\\u0bae \\u0b9a\\u0bb2\\u0bb0\\u0ba4\\u0ba4 \\u0ba8\\u0bb1\\u0b95\\u0bae \\u0bb5\\u0b9f\\u0baa\\u0bb3\\u0bb0 seeman tiruppur ntk electioncampaign thanthitv\",\n          \"\\u0ba4\\u0bb0\\u0bb5\\u0bb0\\u0b99\\u0b95\\u0bae \\u0ba4\\u0bb1\\u0b95 \\u0ba4\\u0b95\\u0ba4 \\u0bae\\u0ba3\\u0b95\\u0ba3\\u0b9f\\u0bae \\u0bb5\\u0b9f\\u0b95\\u0b95 \\u0b92\\u0ba9\\u0bb1\\u0baf\\u0bae \\u0b9a\\u0bb0\\u0baa\\u0b95 \\u0baa\\u0bb0\\u0bb3\\u0bae\\u0ba9\\u0bb1\\u0ba4 \\u0ba4\\u0bb0\\u0ba4\\u0bb2\\u0b95\\u0b95\\u0ba9 \\u0ba4\\u0ba3\\u0ba3\\u0baa\\u0baa\\u0bb0\\u0baa\\u0baa\\u0bb0 \\u0b87\\u0ba9\\u0bb1 \\u0b95\\u0bb2 \\u0b9a\\u0bae\\u0bb0\\u0b9a\\u0bae\\u0baa\\u0b9f\\u0b9f \\u0b8a\\u0bb0\\u0b9f\\u0b9a \\u0baa\\u0b95\\u0ba4\\u0b95\\u0bb3\\u0bb2 \\u0bae\\u0b95\\u0b9a \\u0b9a\\u0bb1\\u0baa\\u0baa\\u0b95 \\u0ba8\\u0b9f\\u0baa\\u0bb1\\u0bb1\\u0ba4 \\u0bae\\u0b95\\u0b95\\u0bb3\\u0ba9_\\u0b9a\\u0ba9\\u0ba9\\u0bae_\\u0bae\\u0b95 mike_voiceofpeople\"\n        ],\n        \"semantic_type\": \"\",\n        \"description\": \"\"\n      }\n    }\n  ]\n}"
            }
          },
          "metadata": {},
          "execution_count": 47
        }
      ]
    },
    {
      "cell_type": "code",
      "source": [
        "cleaned_ev.head()"
      ],
      "metadata": {
        "colab": {
          "base_uri": "https://localhost:8080/",
          "height": 206
        },
        "id": "ZkkJNvuo1l7x",
        "outputId": "7e620c60-4ede-4f73-e634-58a511defd54"
      },
      "execution_count": null,
      "outputs": [
        {
          "output_type": "execute_result",
          "data": {
            "text/plain": [
              "                                             content         labels  \\\n",
              "0  ஒற்றே அறை...\\n\\nபாஜக குளோஸ்!\\n\\n#மக்களின்_சின்...    Opinionated   \n",
              "1  வாய்ப்பில்லை சார் வாய்ப்பில்லை\\n#சீமானின்_சின்...  Substantiated   \n",
              "2  ஒரே போடு இரண்டாக பிளக்கும் | வரலாற்றில் ஒருவன்...        Neutral   \n",
              "3  இப்படியெல்லாம் எடிட் பண்ணிதான் ஓட்டு வாங்கணும்...       Negative   \n",
              "4  #Mike_VoiceOfPeople \\n#NTK_Symbol_Mike \\n#மக்க...  Substantiated   \n",
              "\n",
              "                                       cleaned_tweet  \n",
              "0  ஒறற அற பஜக களஸ மககளன_சனனம_மக சமனன_சனனம_மக மககள...  \n",
              "1  வயபபலல சர வயபபலல சமனன_சனனம_ஒலவஙக_மக ntk_symbol...  \n",
              "2  ஒர பட இரணடக பளககம வரலறறல ஒரவன politicalrally s...  \n",
              "3  இபபடயலலம எடட பணணதன ஓடட வஙகணமன இரகக உரபபடய வரசம...  \n",
              "4  mike_voiceofpeople ntk_symbol_mike மககளன_சனனம_...  "
            ],
            "text/html": [
              "\n",
              "  <div id=\"df-a7085a5d-3033-4cbd-8806-1cf171afc3f0\" class=\"colab-df-container\">\n",
              "    <div>\n",
              "<style scoped>\n",
              "    .dataframe tbody tr th:only-of-type {\n",
              "        vertical-align: middle;\n",
              "    }\n",
              "\n",
              "    .dataframe tbody tr th {\n",
              "        vertical-align: top;\n",
              "    }\n",
              "\n",
              "    .dataframe thead th {\n",
              "        text-align: right;\n",
              "    }\n",
              "</style>\n",
              "<table border=\"1\" class=\"dataframe\">\n",
              "  <thead>\n",
              "    <tr style=\"text-align: right;\">\n",
              "      <th></th>\n",
              "      <th>content</th>\n",
              "      <th>labels</th>\n",
              "      <th>cleaned_tweet</th>\n",
              "    </tr>\n",
              "  </thead>\n",
              "  <tbody>\n",
              "    <tr>\n",
              "      <th>0</th>\n",
              "      <td>ஒற்றே அறை...\\n\\nபாஜக குளோஸ்!\\n\\n#மக்களின்_சின்...</td>\n",
              "      <td>Opinionated</td>\n",
              "      <td>ஒறற அற பஜக களஸ மககளன_சனனம_மக சமனன_சனனம_மக மககள...</td>\n",
              "    </tr>\n",
              "    <tr>\n",
              "      <th>1</th>\n",
              "      <td>வாய்ப்பில்லை சார் வாய்ப்பில்லை\\n#சீமானின்_சின்...</td>\n",
              "      <td>Substantiated</td>\n",
              "      <td>வயபபலல சர வயபபலல சமனன_சனனம_ஒலவஙக_மக ntk_symbol...</td>\n",
              "    </tr>\n",
              "    <tr>\n",
              "      <th>2</th>\n",
              "      <td>ஒரே போடு இரண்டாக பிளக்கும் | வரலாற்றில் ஒருவன்...</td>\n",
              "      <td>Neutral</td>\n",
              "      <td>ஒர பட இரணடக பளககம வரலறறல ஒரவன politicalrally s...</td>\n",
              "    </tr>\n",
              "    <tr>\n",
              "      <th>3</th>\n",
              "      <td>இப்படியெல்லாம் எடிட் பண்ணிதான் ஓட்டு வாங்கணும்...</td>\n",
              "      <td>Negative</td>\n",
              "      <td>இபபடயலலம எடட பணணதன ஓடட வஙகணமன இரகக உரபபடய வரசம...</td>\n",
              "    </tr>\n",
              "    <tr>\n",
              "      <th>4</th>\n",
              "      <td>#Mike_VoiceOfPeople \\n#NTK_Symbol_Mike \\n#மக்க...</td>\n",
              "      <td>Substantiated</td>\n",
              "      <td>mike_voiceofpeople ntk_symbol_mike மககளன_சனனம_...</td>\n",
              "    </tr>\n",
              "  </tbody>\n",
              "</table>\n",
              "</div>\n",
              "    <div class=\"colab-df-buttons\">\n",
              "\n",
              "  <div class=\"colab-df-container\">\n",
              "    <button class=\"colab-df-convert\" onclick=\"convertToInteractive('df-a7085a5d-3033-4cbd-8806-1cf171afc3f0')\"\n",
              "            title=\"Convert this dataframe to an interactive table.\"\n",
              "            style=\"display:none;\">\n",
              "\n",
              "  <svg xmlns=\"http://www.w3.org/2000/svg\" height=\"24px\" viewBox=\"0 -960 960 960\">\n",
              "    <path d=\"M120-120v-720h720v720H120Zm60-500h600v-160H180v160Zm220 220h160v-160H400v160Zm0 220h160v-160H400v160ZM180-400h160v-160H180v160Zm440 0h160v-160H620v160ZM180-180h160v-160H180v160Zm440 0h160v-160H620v160Z\"/>\n",
              "  </svg>\n",
              "    </button>\n",
              "\n",
              "  <style>\n",
              "    .colab-df-container {\n",
              "      display:flex;\n",
              "      gap: 12px;\n",
              "    }\n",
              "\n",
              "    .colab-df-convert {\n",
              "      background-color: #E8F0FE;\n",
              "      border: none;\n",
              "      border-radius: 50%;\n",
              "      cursor: pointer;\n",
              "      display: none;\n",
              "      fill: #1967D2;\n",
              "      height: 32px;\n",
              "      padding: 0 0 0 0;\n",
              "      width: 32px;\n",
              "    }\n",
              "\n",
              "    .colab-df-convert:hover {\n",
              "      background-color: #E2EBFA;\n",
              "      box-shadow: 0px 1px 2px rgba(60, 64, 67, 0.3), 0px 1px 3px 1px rgba(60, 64, 67, 0.15);\n",
              "      fill: #174EA6;\n",
              "    }\n",
              "\n",
              "    .colab-df-buttons div {\n",
              "      margin-bottom: 4px;\n",
              "    }\n",
              "\n",
              "    [theme=dark] .colab-df-convert {\n",
              "      background-color: #3B4455;\n",
              "      fill: #D2E3FC;\n",
              "    }\n",
              "\n",
              "    [theme=dark] .colab-df-convert:hover {\n",
              "      background-color: #434B5C;\n",
              "      box-shadow: 0px 1px 3px 1px rgba(0, 0, 0, 0.15);\n",
              "      filter: drop-shadow(0px 1px 2px rgba(0, 0, 0, 0.3));\n",
              "      fill: #FFFFFF;\n",
              "    }\n",
              "  </style>\n",
              "\n",
              "    <script>\n",
              "      const buttonEl =\n",
              "        document.querySelector('#df-a7085a5d-3033-4cbd-8806-1cf171afc3f0 button.colab-df-convert');\n",
              "      buttonEl.style.display =\n",
              "        google.colab.kernel.accessAllowed ? 'block' : 'none';\n",
              "\n",
              "      async function convertToInteractive(key) {\n",
              "        const element = document.querySelector('#df-a7085a5d-3033-4cbd-8806-1cf171afc3f0');\n",
              "        const dataTable =\n",
              "          await google.colab.kernel.invokeFunction('convertToInteractive',\n",
              "                                                    [key], {});\n",
              "        if (!dataTable) return;\n",
              "\n",
              "        const docLinkHtml = 'Like what you see? Visit the ' +\n",
              "          '<a target=\"_blank\" href=https://colab.research.google.com/notebooks/data_table.ipynb>data table notebook</a>'\n",
              "          + ' to learn more about interactive tables.';\n",
              "        element.innerHTML = '';\n",
              "        dataTable['output_type'] = 'display_data';\n",
              "        await google.colab.output.renderOutput(dataTable, element);\n",
              "        const docLink = document.createElement('div');\n",
              "        docLink.innerHTML = docLinkHtml;\n",
              "        element.appendChild(docLink);\n",
              "      }\n",
              "    </script>\n",
              "  </div>\n",
              "\n",
              "\n",
              "<div id=\"df-0f04785b-0b12-4eb7-bce2-926de85ceb27\">\n",
              "  <button class=\"colab-df-quickchart\" onclick=\"quickchart('df-0f04785b-0b12-4eb7-bce2-926de85ceb27')\"\n",
              "            title=\"Suggest charts\"\n",
              "            style=\"display:none;\">\n",
              "\n",
              "<svg xmlns=\"http://www.w3.org/2000/svg\" height=\"24px\"viewBox=\"0 0 24 24\"\n",
              "     width=\"24px\">\n",
              "    <g>\n",
              "        <path d=\"M19 3H5c-1.1 0-2 .9-2 2v14c0 1.1.9 2 2 2h14c1.1 0 2-.9 2-2V5c0-1.1-.9-2-2-2zM9 17H7v-7h2v7zm4 0h-2V7h2v10zm4 0h-2v-4h2v4z\"/>\n",
              "    </g>\n",
              "</svg>\n",
              "  </button>\n",
              "\n",
              "<style>\n",
              "  .colab-df-quickchart {\n",
              "      --bg-color: #E8F0FE;\n",
              "      --fill-color: #1967D2;\n",
              "      --hover-bg-color: #E2EBFA;\n",
              "      --hover-fill-color: #174EA6;\n",
              "      --disabled-fill-color: #AAA;\n",
              "      --disabled-bg-color: #DDD;\n",
              "  }\n",
              "\n",
              "  [theme=dark] .colab-df-quickchart {\n",
              "      --bg-color: #3B4455;\n",
              "      --fill-color: #D2E3FC;\n",
              "      --hover-bg-color: #434B5C;\n",
              "      --hover-fill-color: #FFFFFF;\n",
              "      --disabled-bg-color: #3B4455;\n",
              "      --disabled-fill-color: #666;\n",
              "  }\n",
              "\n",
              "  .colab-df-quickchart {\n",
              "    background-color: var(--bg-color);\n",
              "    border: none;\n",
              "    border-radius: 50%;\n",
              "    cursor: pointer;\n",
              "    display: none;\n",
              "    fill: var(--fill-color);\n",
              "    height: 32px;\n",
              "    padding: 0;\n",
              "    width: 32px;\n",
              "  }\n",
              "\n",
              "  .colab-df-quickchart:hover {\n",
              "    background-color: var(--hover-bg-color);\n",
              "    box-shadow: 0 1px 2px rgba(60, 64, 67, 0.3), 0 1px 3px 1px rgba(60, 64, 67, 0.15);\n",
              "    fill: var(--button-hover-fill-color);\n",
              "  }\n",
              "\n",
              "  .colab-df-quickchart-complete:disabled,\n",
              "  .colab-df-quickchart-complete:disabled:hover {\n",
              "    background-color: var(--disabled-bg-color);\n",
              "    fill: var(--disabled-fill-color);\n",
              "    box-shadow: none;\n",
              "  }\n",
              "\n",
              "  .colab-df-spinner {\n",
              "    border: 2px solid var(--fill-color);\n",
              "    border-color: transparent;\n",
              "    border-bottom-color: var(--fill-color);\n",
              "    animation:\n",
              "      spin 1s steps(1) infinite;\n",
              "  }\n",
              "\n",
              "  @keyframes spin {\n",
              "    0% {\n",
              "      border-color: transparent;\n",
              "      border-bottom-color: var(--fill-color);\n",
              "      border-left-color: var(--fill-color);\n",
              "    }\n",
              "    20% {\n",
              "      border-color: transparent;\n",
              "      border-left-color: var(--fill-color);\n",
              "      border-top-color: var(--fill-color);\n",
              "    }\n",
              "    30% {\n",
              "      border-color: transparent;\n",
              "      border-left-color: var(--fill-color);\n",
              "      border-top-color: var(--fill-color);\n",
              "      border-right-color: var(--fill-color);\n",
              "    }\n",
              "    40% {\n",
              "      border-color: transparent;\n",
              "      border-right-color: var(--fill-color);\n",
              "      border-top-color: var(--fill-color);\n",
              "    }\n",
              "    60% {\n",
              "      border-color: transparent;\n",
              "      border-right-color: var(--fill-color);\n",
              "    }\n",
              "    80% {\n",
              "      border-color: transparent;\n",
              "      border-right-color: var(--fill-color);\n",
              "      border-bottom-color: var(--fill-color);\n",
              "    }\n",
              "    90% {\n",
              "      border-color: transparent;\n",
              "      border-bottom-color: var(--fill-color);\n",
              "    }\n",
              "  }\n",
              "</style>\n",
              "\n",
              "  <script>\n",
              "    async function quickchart(key) {\n",
              "      const quickchartButtonEl =\n",
              "        document.querySelector('#' + key + ' button');\n",
              "      quickchartButtonEl.disabled = true;  // To prevent multiple clicks.\n",
              "      quickchartButtonEl.classList.add('colab-df-spinner');\n",
              "      try {\n",
              "        const charts = await google.colab.kernel.invokeFunction(\n",
              "            'suggestCharts', [key], {});\n",
              "      } catch (error) {\n",
              "        console.error('Error during call to suggestCharts:', error);\n",
              "      }\n",
              "      quickchartButtonEl.classList.remove('colab-df-spinner');\n",
              "      quickchartButtonEl.classList.add('colab-df-quickchart-complete');\n",
              "    }\n",
              "    (() => {\n",
              "      let quickchartButtonEl =\n",
              "        document.querySelector('#df-0f04785b-0b12-4eb7-bce2-926de85ceb27 button');\n",
              "      quickchartButtonEl.style.display =\n",
              "        google.colab.kernel.accessAllowed ? 'block' : 'none';\n",
              "    })();\n",
              "  </script>\n",
              "</div>\n",
              "\n",
              "    </div>\n",
              "  </div>\n"
            ],
            "application/vnd.google.colaboratory.intrinsic+json": {
              "type": "dataframe",
              "variable_name": "cleaned_ev",
              "summary": "{\n  \"name\": \"cleaned_ev\",\n  \"rows\": 540,\n  \"fields\": [\n    {\n      \"column\": \"content\",\n      \"properties\": {\n        \"dtype\": \"string\",\n        \"num_unique_values\": 540,\n        \"samples\": [\n          \"\\\"\\u0b85\\u0ba3\\u0bcd\\u0ba3\\u0bbe\\u0bae\\u0bb2\\u0bc8 \\u0b92\\u0bb0\\u0bc1 \\u0b85\\u0baa\\u0bcd\\u0bb0\\u0ba3\\u0bcd\\u0b9f\\u0bbf\\u0bb8\\u0bcd\\\"\\n\\n#Jayakumar #ADMK #Annamalai #BJP \",\n          \"\\ud83c\\uddf0\\ud83c\\uddec\\ud83c\\udf99\\ufe0f \\u0b92\\u0bb0\\u0bc1 \\u0baa\\u0b95\\u0bcd\\u0b95\\u0bae\\u0bcd \\u0bae\\u0bc8\\u0b95\\u0bcd \\u0b9a\\u0bbf\\u0ba9\\u0bcd\\u0ba9\\u0ba4\\u0bcd\\u0ba4\\u0bbf\\u0bb1\\u0bcd\\u0b95\\u0bc1 \\u0b86\\u0ba4\\u0bb0\\u0bb5\\u0bc1 \\u0b8e\\u0ba9\\u0bcd\\u0bb1\\u0bbe\\u0bb2\\u0bc1\\u0bae\\u0bcd , \\u0bae\\u0bb1\\u0bc1\\u0baa\\u0b95\\u0bcd\\u0b95\\u0bae\\u0bcd 666 \\u0baf\\u0bc2\\u0ba4\\u0bb0\\u0bcd\\u0b95\\u0bb3\\u0bbf\\u0ba9\\u0bcd \\u0b8e\\u0ba3\\u0bcd \\u0bb5\\u0bb0\\u0bc1\\u0b95\\u0bbf\\u0bb1\\u0ba4\\u0bc1. \\u0ba4\\u0bae\\u0bcd\\u0baa\\u0bbf \\u0baa\\u0bbe\\u0bb0\\u0bbf\\u0b9a\\u0bbe\\u0bb2\\u0ba9\\u0bcd \\u0ba4\\u0baf\\u0bbe\\u0bb0\\u0bbe\\u0b95\\u0bbf\\u0b95\\u0bcd \\u0b95\\u0bca\\u0ba3\\u0bcd\\u0b9f\\u0bbf\\u0bb0\\u0bc1\\u0baa\\u0bcd\\u0baa\\u0bbe\\u0bb0\\u0bcd \\ud83c\\udf99\\ufe0f\\ud83c\\uddf0\\ud83c\\uddec\\n\\n#\\u0bae\\u0b95\\u0bcd\\u0b95\\u0bb3\\u0bbf\\u0ba9\\u0bcd_\\u0b9a\\u0bbf\\u0ba9\\u0bcd\\u0ba9\\u0bae\\u0bcd_\\u0bae\\u0bc8\\u0b95\\u0bcd\\n#Mike_VoiceOfPeople\\n\\ud83c\\udf99\\ufe0f\\ud83c\\udf99\\ufe0f\\ud83c\\udf99\\ufe0f\\ud83c\\udf99\\ufe0f\\ud83c\\udf99\\ufe0f\\ud83c\\udf99\\ufe0f\\ud83c\\udf99\\ufe0f\\ud83c\\udf99\\ufe0f\\ud83c\\udf99\\ufe0f \",\n          \"\\u0ba8\\u0bbe\\u0ba9\\u0bcd \\u0baa\\u0bbe\\u0bb0\\u0bcd\\u0ba4\\u0bcd\\u0ba4\\u0bc1\\u0b95\\u0bbf\\u0bb1\\u0bc7\\u0ba9\\u0bcd.. \\u0bb0\\u0bbe\\u0b95\\u0bc1\\u0bb2\\u0bbf\\u0b9f\\u0bae\\u0bcd \\u0bb8\\u0bcd\\u0b9f\\u0bbe\\u0bb2\\u0bbf\\u0ba9\\u0bcd \\u0ba4\\u0ba8\\u0bcd\\u0ba4 \\u0bb5\\u0bbe\\u0b95\\u0bcd\\u0b95\\u0bc1\\u0bb1\\u0bc1\\u0ba4\\u0bbf! \\u0b87\\u0ba4\\u0bc6\\u0bb2\\u0bcd\\u0bb2\\u0bbe\\u0bae\\u0bcd \\u0bb5\\u0bc7\\u0bb1 \\u0bb2\\u0bc6\\u0bb5\\u0bb2\\u0bcd \\u0baa\\u0bbf\\u0bb3\\u0bbe\\u0ba9\\u0bcd! \\u0b8e\\u0ba9\\u0bcd\\u0ba9 \\u0ba8\\u0b9f\\u0ba8\\u0bcd\\u0ba4\\u0ba4\\u0bc1?\\n\\n\\n\\n#Tamilnadu #MKStalin #RahulGandhi #SoniaGandhi #\\u0bb8\\u0bcd\\u0b9f\\u0bbe\\u0bb2\\u0bbf\\u0ba9\\u0bcd\"\n        ],\n        \"semantic_type\": \"\",\n        \"description\": \"\"\n      }\n    },\n    {\n      \"column\": \"labels\",\n      \"properties\": {\n        \"dtype\": \"category\",\n        \"num_unique_values\": 7,\n        \"samples\": [\n          \"Opinionated\",\n          \"Substantiated\",\n          \"None of the above\"\n        ],\n        \"semantic_type\": \"\",\n        \"description\": \"\"\n      }\n    },\n    {\n      \"column\": \"cleaned_tweet\",\n      \"properties\": {\n        \"dtype\": \"string\",\n        \"num_unique_values\": 536,\n        \"samples\": [\n          \"\\u0b86\\u0bae\\u0ba9\\u0b95\\u0b95 \\u0bb5\\u0bb2 \\u0bb5\\u0b9a\\u0b9a \\u0b95\\u0b9e\\u0b9a\\u0ba8\\u0ba4 novotetodmk \\u0ba4\\u0bb0\\u0bb5\\u0b9f_\\u0bae\\u0b9f\\u0bb2 ipl gscam bjpindia senthilbalaji drug_mafia_dmk dmkfailstn congressmuktbharat edraid\",\n          \"\\u0bae\\u0b95\\u0b95\\u0bb3\\u0ba9_\\u0b9a\\u0ba9\\u0ba9\\u0bae_\\u0bae\\u0b95 mike_voiceofpeople \\u0b8e\\u0ba9\\u0bb1 \\u0b95\\u0ba4\\u0ba4\\u0b95\\u0b95\\u0bb1\\u0baf\\u0baa \\u0baa\\u0baf\\u0ba9\\u0baa\\u0b9f\\u0ba4\\u0ba4 \\u0b85\\u0ba9\\u0bb5\\u0bb0\\u0bae \\u0ba4\\u0b99\\u0b95\\u0bb3 \\u0b95\\u0bb0\\u0ba4\\u0ba4\\u0b95\\u0b95\\u0bb3\\u0baa \\u0baa\\u0ba4\\u0bb5\\u0b9f\\u0bb5\\u0bae\",\n          \"\\u0bae\\u0b9f\\u0b9f\\u0bb3 \\u0bae\\u0b95\\u0b95\\u0bb3 \\u0b8f\\u0bae\\u0bb1\\u0bb1 \\u0ba4\\u0ba9 \\u0b93\\u0b9f\\u0b9f \\u0bb5\\u0b99\\u0b95\\u0bb1\\u0bae \\u0b85\\u0ba4 \\u0ba4\\u0ba9 \\u0bae\\u0b95\\u0b95\\u0baf\\u0bae \\u0b8e\\u0ba9\\u0bb1 \\u0b9a\\u0bb2\\u0b95\\u0bb1\\u0bb0 \\u0bb5\\u0bb0\\u0bae\\u0ba3 \\u0b86\\u0ba3\\u0b9f\\u0b95\\u0bb2 \\u0ba4\\u0bb0\\u0bb5\\u0b9f \\u0b86\\u0b9f\\u0b9a \\u0b87\\u0ba4\\u0bb5 \\u0b9a\\u0b9f\\u0b9a \\u0b85\\u0bb5\\u0bb2\\u0b99\\u0b95\\u0bb3 \\u0ba4\\u0b9f\\u0bb0 \\u0b95\\u0ba4 \\u0ba4\\u0bb0\\u0b9f\\u0b9f_\\u0ba4\\u0bae\\u0b95 \\u0b9a\\u0ba4\\u0ba4\\u0ba9\\u0ba9_\\u0b86\\u0b9f\\u0b9a \\u0ba4\\u0bb0\\u0b9f\\u0b9f_\\u0ba4\\u0bb0\\u0bb5\\u0b9f\\u0bae dmkfailstn \\u0b89\\u0baa\\u0bb8\\u0baa\\u0bb0\\u0ba4\\u0baa\\u0b99\\u0b95\\u0bb3 \\u0ba4\\u0bb0\\u0bb5\\u0b9f\\u0bae\\u0b9f\\u0bb2\\u0baa\\u0bb0\\u0ba4\\u0baa\\u0b99\\u0b95\\u0bb3\"\n        ],\n        \"semantic_type\": \"\",\n        \"description\": \"\"\n      }\n    }\n  ]\n}"
            }
          },
          "metadata": {},
          "execution_count": 48
        }
      ]
    },
    {
      "cell_type": "code",
      "source": [
        "df_test.head()"
      ],
      "metadata": {
        "colab": {
          "base_uri": "https://localhost:8080/",
          "height": 206
        },
        "id": "0jYfv8KI1o21",
        "outputId": "b6469def-b007-4074-e6a8-015db1a8343e"
      },
      "execution_count": null,
      "outputs": [
        {
          "output_type": "execute_result",
          "data": {
            "text/plain": [
              "      Id                                            content  \\\n",
              "0  PS_01  இஸ்லாமிய சகோதரர்களுடன் ரமலான் கொண்டாடிய அதிமுக...   \n",
              "1  PS_02  \\nஓபிஎஸ் - எடப்பாடி போட்டா போட்டி! திடீரென பணி...   \n",
              "2  PS_03  இன்றைய பரப்புரை:\\n\\nநாம் தமிழர் கட்சி தலைமை ஒர...   \n",
              "3  PS_04  🇰🇬🎙️ இன்னும் 05 ஏ நாளில், வெல்வோம் தமிழராய் - ...   \n",
              "4  PS_05  டாஸ்மாக்ல மட்டும்தான் கருணாநிதி அவர்களின்  பெய...   \n",
              "\n",
              "                                       cleaned_tweet  \n",
              "0  இஸலமய சகதரரகளடன ரமலன கணடடய அதமக வடபளர ரயபரம மன...  \n",
              "1  ஓபஎஸ எடபபட படட படட தடரன பணகள மடககயளள எடபபட aia...  \n",
              "2  இனறய பரபபர நம தமழர கடச தலம ஒரஙகணபபளர சமன அவரகள...  \n",
              "3  இனனம ஏ நளல வலவம தமழரய தல நமரவம நம தமழரய மக சனன...  \n",
              "4  டஸமகல மடடமதன கரணநத அவரகளன பயர பரததமனனத தமப சனன...  "
            ],
            "text/html": [
              "\n",
              "  <div id=\"df-b87780da-5894-478e-909e-3f45ab8b4e95\" class=\"colab-df-container\">\n",
              "    <div>\n",
              "<style scoped>\n",
              "    .dataframe tbody tr th:only-of-type {\n",
              "        vertical-align: middle;\n",
              "    }\n",
              "\n",
              "    .dataframe tbody tr th {\n",
              "        vertical-align: top;\n",
              "    }\n",
              "\n",
              "    .dataframe thead th {\n",
              "        text-align: right;\n",
              "    }\n",
              "</style>\n",
              "<table border=\"1\" class=\"dataframe\">\n",
              "  <thead>\n",
              "    <tr style=\"text-align: right;\">\n",
              "      <th></th>\n",
              "      <th>Id</th>\n",
              "      <th>content</th>\n",
              "      <th>cleaned_tweet</th>\n",
              "    </tr>\n",
              "  </thead>\n",
              "  <tbody>\n",
              "    <tr>\n",
              "      <th>0</th>\n",
              "      <td>PS_01</td>\n",
              "      <td>இஸ்லாமிய சகோதரர்களுடன் ரமலான் கொண்டாடிய அதிமுக...</td>\n",
              "      <td>இஸலமய சகதரரகளடன ரமலன கணடடய அதமக வடபளர ரயபரம மன...</td>\n",
              "    </tr>\n",
              "    <tr>\n",
              "      <th>1</th>\n",
              "      <td>PS_02</td>\n",
              "      <td>\\nஓபிஎஸ் - எடப்பாடி போட்டா போட்டி! திடீரென பணி...</td>\n",
              "      <td>ஓபஎஸ எடபபட படட படட தடரன பணகள மடககயளள எடபபட aia...</td>\n",
              "    </tr>\n",
              "    <tr>\n",
              "      <th>2</th>\n",
              "      <td>PS_03</td>\n",
              "      <td>இன்றைய பரப்புரை:\\n\\nநாம் தமிழர் கட்சி தலைமை ஒர...</td>\n",
              "      <td>இனறய பரபபர நம தமழர கடச தலம ஒரஙகணபபளர சமன அவரகள...</td>\n",
              "    </tr>\n",
              "    <tr>\n",
              "      <th>3</th>\n",
              "      <td>PS_04</td>\n",
              "      <td>🇰🇬🎙️ இன்னும் 05 ஏ நாளில், வெல்வோம் தமிழராய் - ...</td>\n",
              "      <td>இனனம ஏ நளல வலவம தமழரய தல நமரவம நம தமழரய மக சனன...</td>\n",
              "    </tr>\n",
              "    <tr>\n",
              "      <th>4</th>\n",
              "      <td>PS_05</td>\n",
              "      <td>டாஸ்மாக்ல மட்டும்தான் கருணாநிதி அவர்களின்  பெய...</td>\n",
              "      <td>டஸமகல மடடமதன கரணநத அவரகளன பயர பரததமனனத தமப சனன...</td>\n",
              "    </tr>\n",
              "  </tbody>\n",
              "</table>\n",
              "</div>\n",
              "    <div class=\"colab-df-buttons\">\n",
              "\n",
              "  <div class=\"colab-df-container\">\n",
              "    <button class=\"colab-df-convert\" onclick=\"convertToInteractive('df-b87780da-5894-478e-909e-3f45ab8b4e95')\"\n",
              "            title=\"Convert this dataframe to an interactive table.\"\n",
              "            style=\"display:none;\">\n",
              "\n",
              "  <svg xmlns=\"http://www.w3.org/2000/svg\" height=\"24px\" viewBox=\"0 -960 960 960\">\n",
              "    <path d=\"M120-120v-720h720v720H120Zm60-500h600v-160H180v160Zm220 220h160v-160H400v160Zm0 220h160v-160H400v160ZM180-400h160v-160H180v160Zm440 0h160v-160H620v160ZM180-180h160v-160H180v160Zm440 0h160v-160H620v160Z\"/>\n",
              "  </svg>\n",
              "    </button>\n",
              "\n",
              "  <style>\n",
              "    .colab-df-container {\n",
              "      display:flex;\n",
              "      gap: 12px;\n",
              "    }\n",
              "\n",
              "    .colab-df-convert {\n",
              "      background-color: #E8F0FE;\n",
              "      border: none;\n",
              "      border-radius: 50%;\n",
              "      cursor: pointer;\n",
              "      display: none;\n",
              "      fill: #1967D2;\n",
              "      height: 32px;\n",
              "      padding: 0 0 0 0;\n",
              "      width: 32px;\n",
              "    }\n",
              "\n",
              "    .colab-df-convert:hover {\n",
              "      background-color: #E2EBFA;\n",
              "      box-shadow: 0px 1px 2px rgba(60, 64, 67, 0.3), 0px 1px 3px 1px rgba(60, 64, 67, 0.15);\n",
              "      fill: #174EA6;\n",
              "    }\n",
              "\n",
              "    .colab-df-buttons div {\n",
              "      margin-bottom: 4px;\n",
              "    }\n",
              "\n",
              "    [theme=dark] .colab-df-convert {\n",
              "      background-color: #3B4455;\n",
              "      fill: #D2E3FC;\n",
              "    }\n",
              "\n",
              "    [theme=dark] .colab-df-convert:hover {\n",
              "      background-color: #434B5C;\n",
              "      box-shadow: 0px 1px 3px 1px rgba(0, 0, 0, 0.15);\n",
              "      filter: drop-shadow(0px 1px 2px rgba(0, 0, 0, 0.3));\n",
              "      fill: #FFFFFF;\n",
              "    }\n",
              "  </style>\n",
              "\n",
              "    <script>\n",
              "      const buttonEl =\n",
              "        document.querySelector('#df-b87780da-5894-478e-909e-3f45ab8b4e95 button.colab-df-convert');\n",
              "      buttonEl.style.display =\n",
              "        google.colab.kernel.accessAllowed ? 'block' : 'none';\n",
              "\n",
              "      async function convertToInteractive(key) {\n",
              "        const element = document.querySelector('#df-b87780da-5894-478e-909e-3f45ab8b4e95');\n",
              "        const dataTable =\n",
              "          await google.colab.kernel.invokeFunction('convertToInteractive',\n",
              "                                                    [key], {});\n",
              "        if (!dataTable) return;\n",
              "\n",
              "        const docLinkHtml = 'Like what you see? Visit the ' +\n",
              "          '<a target=\"_blank\" href=https://colab.research.google.com/notebooks/data_table.ipynb>data table notebook</a>'\n",
              "          + ' to learn more about interactive tables.';\n",
              "        element.innerHTML = '';\n",
              "        dataTable['output_type'] = 'display_data';\n",
              "        await google.colab.output.renderOutput(dataTable, element);\n",
              "        const docLink = document.createElement('div');\n",
              "        docLink.innerHTML = docLinkHtml;\n",
              "        element.appendChild(docLink);\n",
              "      }\n",
              "    </script>\n",
              "  </div>\n",
              "\n",
              "\n",
              "<div id=\"df-bc784c86-4e4a-43eb-8999-65cda050b79f\">\n",
              "  <button class=\"colab-df-quickchart\" onclick=\"quickchart('df-bc784c86-4e4a-43eb-8999-65cda050b79f')\"\n",
              "            title=\"Suggest charts\"\n",
              "            style=\"display:none;\">\n",
              "\n",
              "<svg xmlns=\"http://www.w3.org/2000/svg\" height=\"24px\"viewBox=\"0 0 24 24\"\n",
              "     width=\"24px\">\n",
              "    <g>\n",
              "        <path d=\"M19 3H5c-1.1 0-2 .9-2 2v14c0 1.1.9 2 2 2h14c1.1 0 2-.9 2-2V5c0-1.1-.9-2-2-2zM9 17H7v-7h2v7zm4 0h-2V7h2v10zm4 0h-2v-4h2v4z\"/>\n",
              "    </g>\n",
              "</svg>\n",
              "  </button>\n",
              "\n",
              "<style>\n",
              "  .colab-df-quickchart {\n",
              "      --bg-color: #E8F0FE;\n",
              "      --fill-color: #1967D2;\n",
              "      --hover-bg-color: #E2EBFA;\n",
              "      --hover-fill-color: #174EA6;\n",
              "      --disabled-fill-color: #AAA;\n",
              "      --disabled-bg-color: #DDD;\n",
              "  }\n",
              "\n",
              "  [theme=dark] .colab-df-quickchart {\n",
              "      --bg-color: #3B4455;\n",
              "      --fill-color: #D2E3FC;\n",
              "      --hover-bg-color: #434B5C;\n",
              "      --hover-fill-color: #FFFFFF;\n",
              "      --disabled-bg-color: #3B4455;\n",
              "      --disabled-fill-color: #666;\n",
              "  }\n",
              "\n",
              "  .colab-df-quickchart {\n",
              "    background-color: var(--bg-color);\n",
              "    border: none;\n",
              "    border-radius: 50%;\n",
              "    cursor: pointer;\n",
              "    display: none;\n",
              "    fill: var(--fill-color);\n",
              "    height: 32px;\n",
              "    padding: 0;\n",
              "    width: 32px;\n",
              "  }\n",
              "\n",
              "  .colab-df-quickchart:hover {\n",
              "    background-color: var(--hover-bg-color);\n",
              "    box-shadow: 0 1px 2px rgba(60, 64, 67, 0.3), 0 1px 3px 1px rgba(60, 64, 67, 0.15);\n",
              "    fill: var(--button-hover-fill-color);\n",
              "  }\n",
              "\n",
              "  .colab-df-quickchart-complete:disabled,\n",
              "  .colab-df-quickchart-complete:disabled:hover {\n",
              "    background-color: var(--disabled-bg-color);\n",
              "    fill: var(--disabled-fill-color);\n",
              "    box-shadow: none;\n",
              "  }\n",
              "\n",
              "  .colab-df-spinner {\n",
              "    border: 2px solid var(--fill-color);\n",
              "    border-color: transparent;\n",
              "    border-bottom-color: var(--fill-color);\n",
              "    animation:\n",
              "      spin 1s steps(1) infinite;\n",
              "  }\n",
              "\n",
              "  @keyframes spin {\n",
              "    0% {\n",
              "      border-color: transparent;\n",
              "      border-bottom-color: var(--fill-color);\n",
              "      border-left-color: var(--fill-color);\n",
              "    }\n",
              "    20% {\n",
              "      border-color: transparent;\n",
              "      border-left-color: var(--fill-color);\n",
              "      border-top-color: var(--fill-color);\n",
              "    }\n",
              "    30% {\n",
              "      border-color: transparent;\n",
              "      border-left-color: var(--fill-color);\n",
              "      border-top-color: var(--fill-color);\n",
              "      border-right-color: var(--fill-color);\n",
              "    }\n",
              "    40% {\n",
              "      border-color: transparent;\n",
              "      border-right-color: var(--fill-color);\n",
              "      border-top-color: var(--fill-color);\n",
              "    }\n",
              "    60% {\n",
              "      border-color: transparent;\n",
              "      border-right-color: var(--fill-color);\n",
              "    }\n",
              "    80% {\n",
              "      border-color: transparent;\n",
              "      border-right-color: var(--fill-color);\n",
              "      border-bottom-color: var(--fill-color);\n",
              "    }\n",
              "    90% {\n",
              "      border-color: transparent;\n",
              "      border-bottom-color: var(--fill-color);\n",
              "    }\n",
              "  }\n",
              "</style>\n",
              "\n",
              "  <script>\n",
              "    async function quickchart(key) {\n",
              "      const quickchartButtonEl =\n",
              "        document.querySelector('#' + key + ' button');\n",
              "      quickchartButtonEl.disabled = true;  // To prevent multiple clicks.\n",
              "      quickchartButtonEl.classList.add('colab-df-spinner');\n",
              "      try {\n",
              "        const charts = await google.colab.kernel.invokeFunction(\n",
              "            'suggestCharts', [key], {});\n",
              "      } catch (error) {\n",
              "        console.error('Error during call to suggestCharts:', error);\n",
              "      }\n",
              "      quickchartButtonEl.classList.remove('colab-df-spinner');\n",
              "      quickchartButtonEl.classList.add('colab-df-quickchart-complete');\n",
              "    }\n",
              "    (() => {\n",
              "      let quickchartButtonEl =\n",
              "        document.querySelector('#df-bc784c86-4e4a-43eb-8999-65cda050b79f button');\n",
              "      quickchartButtonEl.style.display =\n",
              "        google.colab.kernel.accessAllowed ? 'block' : 'none';\n",
              "    })();\n",
              "  </script>\n",
              "</div>\n",
              "\n",
              "    </div>\n",
              "  </div>\n"
            ],
            "application/vnd.google.colaboratory.intrinsic+json": {
              "type": "dataframe",
              "variable_name": "df_test",
              "summary": "{\n  \"name\": \"df_test\",\n  \"rows\": 544,\n  \"fields\": [\n    {\n      \"column\": \"Id\",\n      \"properties\": {\n        \"dtype\": \"string\",\n        \"num_unique_values\": 544,\n        \"samples\": [\n          \"PS_458\",\n          \"PS_258\",\n          \"PS_358\"\n        ],\n        \"semantic_type\": \"\",\n        \"description\": \"\"\n      }\n    },\n    {\n      \"column\": \"content\",\n      \"properties\": {\n        \"dtype\": \"string\",\n        \"num_unique_values\": 538,\n        \"samples\": [\n          \"\\u0b95\\u0bb0\\u0bc1\\u0ba3\\u0bbe\\u0ba8\\u0bbf\\u0ba4\\u0bbf\\u0baf\\u0bbf\\u0ba9\\u0bcd \\u0b9a\\u0bbe\\u0bb0\\u0bbe\\u0baf\\u0b95\\u0bcd \\u0b95\\u0b9f\\u0bc8 \\u0bae\\u0bc2\\u0b9f\\u0baa\\u0bcd\\u0baa\\u0b9f\\u0bc1\\u0bae\\u0bcd . \\n\\n\\u0bae\\u0bbe\\u0b9f\\u0bcd\\u0b9f\\u0bc1\\u0b95\\u0bcd\\u0b95\\u0bb1\\u0bbf\\u0baf\\u0bc1\\u0b9f\\u0ba9\\u0bcd \\u0baa\\u0ba9\\u0bae\\u0bcd\\u0baa\\u0bbe\\u0bb2\\u0bcd \\u0ba4\\u0bc6\\u0ba9\\u0bcd\\u0ba9\\u0bae\\u0bcd\\u0baa\\u0bbe\\u0bb2\\u0bcd \\u0bb5\\u0bbf\\u0bb0\\u0bc1\\u0ba8\\u0bcd\\u0ba4\\u0bc1 . \\n\\n#\\u0bae\\u0b95\\u0bcd\\u0b95\\u0bb3\\u0bbf\\u0ba9\\u0bcd_\\u0b9a\\u0bbf\\u0ba9\\u0bcd\\u0ba9\\u0bae\\u0bcd_\\u0bae\\u0bc8\\u0b95\\u0bcd\\n#Mike_VoiceOfPeople\\n#Elections2024 \",\n          \"\\u0b9a\\u0bc0\\u0bae\\u0bbe\\u0ba9\\u0bcd \\u0b85\\u0ba9\\u0bc8\\u0bb5\\u0bb0\\u0bc1\\u0b9f\\u0ba9\\u0bc1\\u0bae\\u0bcd \\u0b92\\u0bb0\\u0bc1\\u0b99\\u0bcd\\u0b95\\u0bbf\\u0ba3\\u0bc8\\u0baf\\u0ba3\\u0bc1\\u0bae\\u0bcd.. \\u0ba4\\u0ba9\\u0bbf\\u0baf\\u0bbe\\u0b95 \\u0ba8\\u0bbf\\u0bb1\\u0bcd\\u0b95 \\u0bb5\\u0bc7\\u0ba3\\u0bcd\\u0b9f\\u0bbf\\u0baf\\u0ba4\\u0bbf\\u0bb2\\u0bcd\\u0bb2  - Jaya Prakash Interview | \\u0ba4\\u0bae\\u0bbf\\u0bb4\\u0bb0\\u0bcd \\u0bae\\u0bc1\\u0ba9\\u0bcd\\u0ba9\\u0ba3\\u0bbf  | NTK |  Seeman  \\n\\n\\u0bae\\u0bc1\\u0bb4\\u0bc1 \\u0baa\\u0bc7\\u0b9f\\u0bcd\\u0b9f\\u0bbf\\u25b6  \\n\\n#Seeman #NTK #\\u0b9a\\u0bc0\\u0bae\\u0bbe\\u0ba9\\u0bcd\",\n          \"\\u0b9a\\u0bbe\\u0ba4\\u0bbf\\u0baf\\u0bc8 \\u0ba4\\u0bc2\\u0b95\\u0bcd\\u0b95\\u0bbf \\u0baa\\u0bbf\\u0b9f\\u0bbf\\u0ba4\\u0bcd\\u0ba4\\u0bc1 \\u0baa\\u0bcb\\u0bb1\\u0bcd\\u0bb1\\u0bc1\\u0bb5\\u0bcb\\u0bae\\u0bcd.. #\\u0ba4\\u0bbf\\u0bb0\\u0bbe\\u0bb5\\u0bbf\\u0b9f\\u0bae\\u0bbe\\u0b9f\\u0bb2\\u0bcd\\u0baa\\u0bb0\\u0bbf\\u0ba4\\u0bbe\\u0baa\\u0b99\\u0bcd\\u0b95\\u0bb3\\u0bcd\"\n        ],\n        \"semantic_type\": \"\",\n        \"description\": \"\"\n      }\n    },\n    {\n      \"column\": \"cleaned_tweet\",\n      \"properties\": {\n        \"dtype\": \"string\",\n        \"num_unique_values\": 538,\n        \"samples\": [\n          \"\\u0b95\\u0bb0\\u0ba3\\u0ba8\\u0ba4\\u0baf\\u0ba9 \\u0b9a\\u0bb0\\u0baf\\u0b95 \\u0b95\\u0b9f \\u0bae\\u0b9f\\u0baa\\u0baa\\u0b9f\\u0bae \\u0bae\\u0b9f\\u0b9f\\u0b95\\u0b95\\u0bb1\\u0baf\\u0b9f\\u0ba9 \\u0baa\\u0ba9\\u0bae\\u0baa\\u0bb2 \\u0ba4\\u0ba9\\u0ba9\\u0bae\\u0baa\\u0bb2 \\u0bb5\\u0bb0\\u0ba8\\u0ba4 \\u0bae\\u0b95\\u0b95\\u0bb3\\u0ba9_\\u0b9a\\u0ba9\\u0ba9\\u0bae_\\u0bae\\u0b95 mike_voiceofpeople elections\",\n          \"\\u0b9a\\u0bae\\u0ba9 \\u0b85\\u0ba9\\u0bb5\\u0bb0\\u0b9f\\u0ba9\\u0bae \\u0b92\\u0bb0\\u0b99\\u0b95\\u0ba3\\u0baf\\u0ba3\\u0bae \\u0ba4\\u0ba9\\u0baf\\u0b95 \\u0ba8\\u0bb1\\u0b95 \\u0bb5\\u0ba3\\u0b9f\\u0baf\\u0ba4\\u0bb2\\u0bb2 jaya prakash interview \\u0ba4\\u0bae\\u0bb4\\u0bb0 \\u0bae\\u0ba9\\u0ba9\\u0ba3 ntk seeman \\u0bae\\u0bb4 \\u0baa\\u0b9f\\u0b9f seeman ntk \\u0b9a\\u0bae\\u0ba9\",\n          \"\\u0b9a\\u0ba4\\u0baf \\u0ba4\\u0b95\\u0b95 \\u0baa\\u0b9f\\u0ba4\\u0ba4 \\u0baa\\u0bb1\\u0bb1\\u0bb5\\u0bae \\u0ba4\\u0bb0\\u0bb5\\u0b9f\\u0bae\\u0b9f\\u0bb2\\u0baa\\u0bb0\\u0ba4\\u0baa\\u0b99\\u0b95\\u0bb3\"\n        ],\n        \"semantic_type\": \"\",\n        \"description\": \"\"\n      }\n    }\n  ]\n}"
            }
          },
          "metadata": {},
          "execution_count": 49
        }
      ]
    },
    {
      "cell_type": "code",
      "source": [
        "# Vocabulary and OOV analysis\n",
        "train_corpus = cleaned_train['cleaned_tweet'].sum()\n",
        "ev_corpus = cleaned_ev['cleaned_tweet'].sum()\n",
        "test_corpus = df_test['cleaned_tweet'].sum()\n",
        "\n",
        "train_vocab = set(train_corpus.split())\n",
        "dev_vocab = set(ev_corpus.split())\n",
        "test_vocab = set(test_corpus.split())\n",
        "\n",
        "oov_dev = dev_vocab - train_vocab\n",
        "oov_test = test_vocab - train_vocab\n",
        "\n",
        "print(f\"Number of unique words in training data: {len(train_vocab)}\")\n",
        "print(f\"Number of unique words in development data: {len(dev_vocab)}\")\n",
        "print(f\"Number of unique words in test data: {len(test_vocab)}\")\n",
        "print(f\"OOV words in dev dataset: {len(oov_dev)}\")\n",
        "print(f\"OOV words in test dataset: {len(oov_test)}\")"
      ],
      "metadata": {
        "id": "9aubdBqRL2LU",
        "colab": {
          "base_uri": "https://localhost:8080/"
        },
        "outputId": "8c532f7b-1b65-4cdc-ca8a-6f15da1eed29"
      },
      "execution_count": null,
      "outputs": [
        {
          "output_type": "stream",
          "name": "stdout",
          "text": [
            "Number of unique words in training data: 25837\n",
            "Number of unique words in development data: 3686\n",
            "Number of unique words in test data: 4079\n",
            "OOV words in dev dataset: 1343\n",
            "OOV words in test dataset: 1614\n"
          ]
        }
      ]
    },
    {
      "cell_type": "code",
      "source": [
        "from tensorflow.keras.preprocessing.text import Tokenizer\n",
        "from tensorflow.keras.preprocessing.sequence import pad_sequences\n",
        "\n",
        "vocab = 10000\n",
        "\n",
        "tokenizer = Tokenizer(num_words = vocab, oov_token = \"<OOV>\")\n",
        "tokenizer.fit_on_texts(cleaned_train['cleaned_tweet'])\n",
        "\n",
        "x_train_seq = tokenizer.texts_to_sequences(cleaned_train['cleaned_tweet'])\n",
        "x_ev_seq = tokenizer.texts_to_sequences(cleaned_ev['cleaned_tweet'])\n",
        "x_test_seq = tokenizer.texts_to_sequences(df_test['cleaned_tweet'])\n",
        "\n",
        "max_train_seq = max([len(seq) for seq in x_train_seq])\n",
        "min_train_seq = min([len(seq) for seq in x_train_seq])\n",
        "\n",
        "max_ev_seq = max([len(seq) for seq in x_ev_seq])\n",
        "min_ev_seq = min([len(seq) for seq in x_ev_seq])\n",
        "\n",
        "max_test_seq = max([len(seq) for seq in x_test_seq])\n",
        "min_test_seq = min([len(seq) for seq in x_test_seq])\n",
        "\n",
        "print(f\"max length of train seq: {max_train_seq}\")\n",
        "print(f\"min length of train seq: {min_train_seq}\")\n",
        "print(f\"max length of ev seq: {max_ev_seq}\")\n",
        "print(f\"min length of ev seq: {min_ev_seq}\")\n",
        "print(f\"max length of test seq: {max_test_seq}\")\n",
        "print(f\"min length of test seq: {min_test_seq}\")"
      ],
      "metadata": {
        "id": "hunwYy_0NmLj",
        "colab": {
          "base_uri": "https://localhost:8080/"
        },
        "outputId": "1dd05508-8b87-4741-bafe-928f059bc82e"
      },
      "execution_count": null,
      "outputs": [
        {
          "output_type": "stream",
          "name": "stdout",
          "text": [
            "max length of train seq: 324\n",
            "min length of train seq: 1\n",
            "max length of ev seq: 69\n",
            "min length of ev seq: 1\n",
            "max length of test seq: 347\n",
            "min length of test seq: 2\n"
          ]
        }
      ]
    },
    {
      "cell_type": "code",
      "source": [
        "max_len = 300\n",
        "x_train = pad_sequences(x_train_seq, maxlen = max_len, padding = 'post')\n",
        "x_ev = pad_sequences(x_ev_seq, maxlen = max_len, padding = 'post')\n",
        "x_test = pad_sequences(x_test_seq, maxlen = max_len, padding = 'post')"
      ],
      "metadata": {
        "id": "c3SU9YwlpFUH"
      },
      "execution_count": null,
      "outputs": []
    },
    {
      "cell_type": "code",
      "source": [
        "print(cleaned_train['labels'].unique())\n",
        "print(cleaned_ev['labels'].unique())\n",
        "print(df_test['labels'].unique())"
      ],
      "metadata": {
        "colab": {
          "base_uri": "https://localhost:8080/"
        },
        "id": "qdWKeaU1IyxO",
        "outputId": "b8a89a21-ef2f-4eca-cad4-f1f946a805e6"
      },
      "execution_count": null,
      "outputs": [
        {
          "output_type": "stream",
          "name": "stdout",
          "text": [
            "['Neutral' 'Substantiated' 'Opinionated' 'Positive' 'Sarcastic' 'Negative'\n",
            " 'None of the above']\n",
            "['Opinionated' 'Substantiated' 'Neutral' 'Negative' 'Sarcastic'\n",
            " 'None of the above' 'Positive']\n",
            "['Neutral' 'Negative' 'Substantiated' 'Positive' 'Opinionated' 'Sarcastic'\n",
            " 'None of the above']\n"
          ]
        }
      ]
    },
    {
      "cell_type": "code",
      "source": [
        "le = LabelEncoder()\n",
        "\n",
        "y_train = cleaned_train['labels']\n",
        "y_ev = cleaned_ev['labels']\n",
        "y_test = df_test['labels']\n",
        "\n",
        "y_train = le.fit_transform(y_train)\n",
        "y_ev = le.transform(y_ev)\n",
        "y_test = le.transform(y_test)\n",
        "\n",
        "label_mapping = dict(zip(le.classes_, range(len(le.classes_))))\n",
        "print(\"Label Mapping:\", label_mapping)\n",
        "\n",
        "y_train = np.array(y_train)\n",
        "y_ev = np.array(y_ev)\n",
        "y_test = np.array(y_test)\n",
        "print(y_train)"
      ],
      "metadata": {
        "colab": {
          "base_uri": "https://localhost:8080/"
        },
        "id": "TwQfzvMv-Ze4",
        "outputId": "db6f9c58-2f82-4266-e83c-46e8cda006cb"
      },
      "execution_count": null,
      "outputs": [
        {
          "output_type": "stream",
          "name": "stdout",
          "text": [
            "Label Mapping: {'Negative': 0, 'Neutral': 1, 'None of the above': 2, 'Opinionated': 3, 'Positive': 4, 'Sarcastic': 5, 'Substantiated': 6}\n",
            "[1 6 3 ... 6 6 6]\n"
          ]
        }
      ]
    },
    {
      "cell_type": "code",
      "source": [
        "print(x_train.shape)\n",
        "print(y_train.shape)\n",
        "print(x_test.shape)"
      ],
      "metadata": {
        "id": "lsq4XM8PsolV",
        "outputId": "a4f3dc05-9ce4-4f80-b9fe-eb7be6405394",
        "colab": {
          "base_uri": "https://localhost:8080/"
        }
      },
      "execution_count": null,
      "outputs": [
        {
          "output_type": "stream",
          "name": "stdout",
          "text": [
            "(17794, 300)\n",
            "(17794,)\n",
            "(544, 300)\n"
          ]
        }
      ]
    },
    {
      "cell_type": "code",
      "source": [
        "def build_lstm_model():\n",
        "  inputs = Input(shape=(max_len,))\n",
        "  x = Embedding(input_dim=vocab, output_dim=256)(inputs)\n",
        "\n",
        "  x = LSTM(256, return_sequences=True)(x)\n",
        "  x = LayerNormalization(epsilon=1e-5)(x)\n",
        "  x = LSTM(256)(x)\n",
        "  x = LayerNormalization(epsilon=1e-5)(x)\n",
        "\n",
        "  x = Dense(256, activation='relu')(x)\n",
        "  x = Dense(128, activation='relu')(x)\n",
        "\n",
        "  outputs = Dense(7, activation='softmax')(x)\n",
        "\n",
        "  model = Model(inputs, outputs)\n",
        "  model.compile(optimizer=keras.optimizers.Adam(learning_rate=1e-3),\n",
        "                loss='sparse_categorical_crossentropy', metrics=['sparse_categorical_accuracy'])\n",
        "  return model\n",
        "\n",
        "def build_gru_model():\n",
        "  inputs = Input(shape=(max_len,))\n",
        "  x = Embedding(input_dim=vocab, output_dim=256)(inputs)\n",
        "\n",
        "  x = GRU(256, return_sequences=True)(x)\n",
        "  x = LayerNormalization(epsilon=1e-5)(x)\n",
        "  x = GRU(256)(x)\n",
        "  x = LayerNormalization(epsilon=1e-5)(x)\n",
        "\n",
        "  x = Dense(256, activation='relu')(x)\n",
        "  x = Dense(128, activation='relu')(x)\n",
        "\n",
        "  outputs = Dense(7, activation='softmax')(x)\n",
        "\n",
        "  model = Model(inputs, outputs)\n",
        "  model.compile(optimizer=keras.optimizers.Adam(learning_rate=1e-3),\n",
        "                loss='sparse_categorical_crossentropy', metrics=['sparse_categorical_accuracy'])\n",
        "  return model\n",
        "\n",
        "def build_bilstm_model():\n",
        "  inputs = Input(shape=(max_len,))\n",
        "  x = Embedding(input_dim=vocab, output_dim=256)(inputs)\n",
        "\n",
        "  x = Bidirectional(LSTM(256, return_sequences=True))(x)\n",
        "  x = LayerNormalization(epsilon=1e-5)(x)\n",
        "  x = Bidirectional(LSTM(256))(x)\n",
        "  x = LayerNormalization(epsilon=1e-5)(x)\n",
        "\n",
        "  x = Dense(256, activation='relu')(x)\n",
        "  x = Dense(128, activation='relu')(x)\n",
        "\n",
        "  outputs = Dense(7, activation='softmax')(x)\n",
        "\n",
        "  model = Model(inputs, outputs)\n",
        "  model.compile(optimizer=keras.optimizers.Adam(learning_rate=1e-3),\n",
        "                loss='sparse_categorical_crossentropy', metrics=['sparse_categorical_accuracy'])\n",
        "  return model\n",
        "\n",
        "def build_CNN_BiLSTM_model():\n",
        "  inputs = Input(shape=(max_len,))\n",
        "  x = Embedding(vocab, 256)(inputs)\n",
        "\n",
        "  x = Conv1D(filters=256, kernel_size=3, padding='same', activation='relu')(x)\n",
        "  x = BatchNormalization()(x)\n",
        "  x = MaxPooling1D(pool_size=2, strides=1)(x)\n",
        "\n",
        "  x = Bidirectional(LSTM(128, return_sequences=True))(x)\n",
        "  x = LayerNormalization(epsilon=1e-5)(x)\n",
        "  x = Bidirectional(LSTM(128))(x)\n",
        "  x = LayerNormalization(epsilon=1e-5)(x)\n",
        "\n",
        "  x = Dense(128, activation='relu')(x)\n",
        "  x = Dense(64, activation='relu')(x)\n",
        "\n",
        "  outputs = Dense(7, activation='softmax')(x)\n",
        "\n",
        "  model = Model(inputs, outputs)\n",
        "  model.compile(optimizer=keras.optimizers.Adam(learning_rate=1e-3),\n",
        "                loss='sparse_categorical_crossentropy', metrics=['sparse_categorical_accuracy'])\n",
        "  return model\n",
        "\n",
        "def build_CNN_BiGRU_model():\n",
        "  inputs = Input(shape=(max_len,))\n",
        "  x = Embedding(vocab, 256)(inputs)\n",
        "\n",
        "  x = Conv1D(filters=256, kernel_size=3, padding='same', activation='relu')(x)\n",
        "  x = BatchNormalization()(x)\n",
        "  x = MaxPooling1D(pool_size=2, strides=1)(x)\n",
        "\n",
        "  x = Bidirectional(GRU(128, return_sequences=True))(x)\n",
        "  x = LayerNormalization(epsilon=1e-5)(x)\n",
        "  x = Bidirectional(GRU(128))(x)\n",
        "  x = LayerNormalization(epsilon=1e-5)(x)\n",
        "\n",
        "  x = Dense(128, activation='relu')(x)\n",
        "  x = Dense(64, activation='relu')(x)\n",
        "\n",
        "  outputs = Dense(7, activation='softmax')(x)\n",
        "\n",
        "  model = Model(inputs, outputs)\n",
        "  model.compile(optimizer=keras.optimizers.Adam(learning_rate=1e-3),\n",
        "                loss='sparse_categorical_crossentropy', metrics=['sparse_categorical_accuracy'])\n",
        "  return model\n",
        "\n",
        "def build_biGRU_model():\n",
        "  inputs = Input(shape=(max_len,))\n",
        "  x = Embedding(vocab, 256)(inputs)\n",
        "\n",
        "  x = Bidirectional(GRU(256, return_sequences=True))(x)\n",
        "  x = LayerNormalization(epsilon=1e-5)(x)\n",
        "  x = Bidirectional(GRU(256))(x)\n",
        "  x = LayerNormalization(epsilon=1e-5)(x)\n",
        "\n",
        "  x = Dense(256, activation='relu')(x)\n",
        "  x = Dense(128, activation='relu')(x)\n",
        "\n",
        "  outputs = Dense(7, activation='softmax')(x)\n",
        "\n",
        "  model = Model(inputs, outputs)\n",
        "  model.compile(optimizer=keras.optimizers.Adam(learning_rate=1e-3),\n",
        "                loss='sparse_categorical_crossentropy', metrics=['sparse_categorical_accuracy'])\n",
        "  return model"
      ],
      "metadata": {
        "id": "JuiwMX9fwVpt"
      },
      "execution_count": null,
      "outputs": []
    },
    {
      "cell_type": "markdown",
      "source": [
        "##GRU model"
      ],
      "metadata": {
        "id": "o8sROOFBTrsQ"
      }
    },
    {
      "cell_type": "code",
      "source": [
        "gru_model = build_gru_model()\n",
        "gru_model.fit(x_train, y_train, validation_data=(x_ev, y_ev), epochs=8, batch_size=64,\n",
        "                 callbacks = [keras.callbacks.EarlyStopping(monitor='val_loss', min_delta=0,\n",
        "                                                            patience=3, verbose=1, mode='auto',\n",
        "                                                            restore_best_weights=True)])"
      ],
      "metadata": {
        "colab": {
          "base_uri": "https://localhost:8080/"
        },
        "id": "L14I8p6sTJcO",
        "outputId": "2614c6b3-5e86-4382-ada6-28dfc60d727c"
      },
      "execution_count": null,
      "outputs": [
        {
          "output_type": "stream",
          "name": "stdout",
          "text": [
            "Epoch 1/8\n",
            "\u001b[1m279/279\u001b[0m \u001b[32m━━━━━━━━━━━━━━━━━━━━\u001b[0m\u001b[37m\u001b[0m \u001b[1m20s\u001b[0m 59ms/step - loss: 1.8731 - sparse_categorical_accuracy: 0.2105 - val_loss: 2.4175 - val_sparse_categorical_accuracy: 0.2741\n",
            "Epoch 2/8\n",
            "\u001b[1m279/279\u001b[0m \u001b[32m━━━━━━━━━━━━━━━━━━━━\u001b[0m\u001b[37m\u001b[0m \u001b[1m20s\u001b[0m 58ms/step - loss: 0.7383 - sparse_categorical_accuracy: 0.7431 - val_loss: 2.7494 - val_sparse_categorical_accuracy: 0.3019\n",
            "Epoch 3/8\n",
            "\u001b[1m279/279\u001b[0m \u001b[32m━━━━━━━━━━━━━━━━━━━━\u001b[0m\u001b[37m\u001b[0m \u001b[1m21s\u001b[0m 59ms/step - loss: 0.3442 - sparse_categorical_accuracy: 0.8929 - val_loss: 2.8843 - val_sparse_categorical_accuracy: 0.2963\n",
            "Epoch 4/8\n",
            "\u001b[1m279/279\u001b[0m \u001b[32m━━━━━━━━━━━━━━━━━━━━\u001b[0m\u001b[37m\u001b[0m \u001b[1m21s\u001b[0m 60ms/step - loss: 0.1974 - sparse_categorical_accuracy: 0.9373 - val_loss: 2.9213 - val_sparse_categorical_accuracy: 0.2778\n",
            "Epoch 4: early stopping\n",
            "Restoring model weights from the end of the best epoch: 1.\n"
          ]
        },
        {
          "output_type": "execute_result",
          "data": {
            "text/plain": [
              "<keras.src.callbacks.history.History at 0x7d130ec60990>"
            ]
          },
          "metadata": {},
          "execution_count": 20
        }
      ]
    },
    {
      "cell_type": "code",
      "source": [
        "y_test_gru = gru_model.predict(x_test, batch_size = 64)\n",
        "y_test_gru = np.argmax(y_test_gru, axis = -1)"
      ],
      "metadata": {
        "colab": {
          "base_uri": "https://localhost:8080/"
        },
        "id": "SYtuMnLOUApx",
        "outputId": "a0d0b9c3-63fd-4020-a9c4-74bf4c90fac5"
      },
      "execution_count": null,
      "outputs": [
        {
          "output_type": "stream",
          "name": "stdout",
          "text": [
            "\u001b[1m9/9\u001b[0m \u001b[32m━━━━━━━━━━━━━━━━━━━━\u001b[0m\u001b[37m\u001b[0m \u001b[1m1s\u001b[0m 53ms/step\n"
          ]
        }
      ]
    },
    {
      "cell_type": "code",
      "source": [
        "print(\"Classification report on test set\\n\", classification_report(y_test, y_test_gru))"
      ],
      "metadata": {
        "colab": {
          "base_uri": "https://localhost:8080/"
        },
        "id": "JhmXXI3BUVwj",
        "outputId": "6fc18eff-53ae-4bb4-a093-adebdb405d4e"
      },
      "execution_count": null,
      "outputs": [
        {
          "output_type": "stream",
          "name": "stdout",
          "text": [
            "Classification report on test set\n",
            "               precision    recall  f1-score   support\n",
            "\n",
            "           0       0.15      0.09      0.11        46\n",
            "           1       0.07      0.03      0.04        70\n",
            "           2       1.00      0.36      0.53        25\n",
            "           3       0.33      0.79      0.47       171\n",
            "           4       0.42      0.13      0.20        75\n",
            "           5       0.19      0.05      0.08       106\n",
            "           6       0.16      0.08      0.11        51\n",
            "\n",
            "    accuracy                           0.31       544\n",
            "   macro avg       0.33      0.22      0.22       544\n",
            "weighted avg       0.28      0.31      0.24       544\n",
            "\n"
          ]
        }
      ]
    },
    {
      "cell_type": "markdown",
      "source": [
        "### Train BiLSTM"
      ],
      "metadata": {
        "id": "pcQNp6orJPif"
      }
    },
    {
      "cell_type": "code",
      "source": [
        "bilstm_model = build_bilstm_model()\n",
        "bilstm_model.fit(x_train, y_train, validation_data=(x_ev, y_ev), epochs=8, batch_size=64,\n",
        "                 callbacks = [keras.callbacks.EarlyStopping(monitor='val_loss', min_delta=0,\n",
        "                                                            patience=3, verbose=1, mode='auto',\n",
        "                                                            restore_best_weights=True)])"
      ],
      "metadata": {
        "id": "tnI5YOyP2HBK",
        "outputId": "4a2ed9d0-00b5-4818-eb87-b1d4775393bf",
        "colab": {
          "base_uri": "https://localhost:8080/"
        }
      },
      "execution_count": null,
      "outputs": [
        {
          "output_type": "stream",
          "name": "stdout",
          "text": [
            "Epoch 1/8\n",
            "\u001b[1m279/279\u001b[0m \u001b[32m━━━━━━━━━━━━━━━━━━━━\u001b[0m\u001b[37m\u001b[0m \u001b[1m47s\u001b[0m 147ms/step - loss: 1.3107 - sparse_categorical_accuracy: 0.5331 - val_loss: 2.6536 - val_sparse_categorical_accuracy: 0.2963\n",
            "Epoch 2/8\n",
            "\u001b[1m279/279\u001b[0m \u001b[32m━━━━━━━━━━━━━━━━━━━━\u001b[0m\u001b[37m\u001b[0m \u001b[1m82s\u001b[0m 150ms/step - loss: 0.2940 - sparse_categorical_accuracy: 0.9068 - val_loss: 3.0396 - val_sparse_categorical_accuracy: 0.2981\n",
            "Epoch 3/8\n",
            "\u001b[1m279/279\u001b[0m \u001b[32m━━━━━━━━━━━━━━━━━━━━\u001b[0m\u001b[37m\u001b[0m \u001b[1m41s\u001b[0m 146ms/step - loss: 0.1696 - sparse_categorical_accuracy: 0.9446 - val_loss: 3.3454 - val_sparse_categorical_accuracy: 0.3148\n",
            "Epoch 4/8\n",
            "\u001b[1m279/279\u001b[0m \u001b[32m━━━━━━━━━━━━━━━━━━━━\u001b[0m\u001b[37m\u001b[0m \u001b[1m41s\u001b[0m 147ms/step - loss: 0.1049 - sparse_categorical_accuracy: 0.9620 - val_loss: 4.5624 - val_sparse_categorical_accuracy: 0.3000\n",
            "Epoch 4: early stopping\n",
            "Restoring model weights from the end of the best epoch: 1.\n"
          ]
        },
        {
          "output_type": "execute_result",
          "data": {
            "text/plain": [
              "<keras.src.callbacks.history.History at 0x79f210322f90>"
            ]
          },
          "metadata": {},
          "execution_count": 24
        }
      ]
    },
    {
      "cell_type": "code",
      "source": [
        "y_test_bilstm = bilstm_model.predict(x_test, batch_size = 64)\n",
        "y_test_bilstm = np.argmax(y_test_bilstm, axis = -1)"
      ],
      "metadata": {
        "id": "ehqWlFoe41ER",
        "outputId": "ad933f19-e7d7-46d4-b67f-49f521f38120",
        "colab": {
          "base_uri": "https://localhost:8080/"
        }
      },
      "execution_count": null,
      "outputs": [
        {
          "output_type": "stream",
          "name": "stdout",
          "text": [
            "\u001b[1m9/9\u001b[0m \u001b[32m━━━━━━━━━━━━━━━━━━━━\u001b[0m\u001b[37m\u001b[0m \u001b[1m1s\u001b[0m 107ms/step\n"
          ]
        }
      ]
    },
    {
      "cell_type": "code",
      "source": [
        "print(\"Classification report on test set\\n\", classification_report(y_test, y_test_bilstm))"
      ],
      "metadata": {
        "colab": {
          "base_uri": "https://localhost:8080/"
        },
        "id": "a4l4ASMWKIAA",
        "outputId": "14d9c09d-1d6c-4800-8a80-94ff05d222c6"
      },
      "execution_count": null,
      "outputs": [
        {
          "output_type": "stream",
          "name": "stdout",
          "text": [
            "Classification report on test set\n",
            "               precision    recall  f1-score   support\n",
            "\n",
            "           0       0.21      0.07      0.10        46\n",
            "           1       0.15      0.09      0.11        70\n",
            "           2       0.92      0.44      0.59        25\n",
            "           3       0.36      0.86      0.50       171\n",
            "           4       0.39      0.15      0.21        75\n",
            "           5       0.43      0.11      0.18       106\n",
            "           6       0.09      0.02      0.03        51\n",
            "\n",
            "    accuracy                           0.35       544\n",
            "   macro avg       0.36      0.25      0.25       544\n",
            "weighted avg       0.34      0.35      0.28       544\n",
            "\n"
          ]
        }
      ]
    },
    {
      "cell_type": "markdown",
      "source": [
        "###CNN-BiLSTM"
      ],
      "metadata": {
        "id": "DynBRU81Lnkl"
      }
    },
    {
      "cell_type": "code",
      "source": [
        "cnn_Bilstm_model = build_CNN_BiLSTM_model()\n",
        "cnn_Bilstm_model.fit(x_train, y_train, validation_data=(x_ev, y_ev), epochs=8, batch_size=32,\n",
        "                 callbacks = [keras.callbacks.EarlyStopping(monitor='val_loss', min_delta=0,\n",
        "                                                            patience=3, verbose=1, mode='auto',\n",
        "                                                            restore_best_weights=True)])"
      ],
      "metadata": {
        "id": "OemkBN9s2M1h",
        "outputId": "147be443-f0b0-4f32-b955-94d4b8ec8397",
        "colab": {
          "base_uri": "https://localhost:8080/"
        }
      },
      "execution_count": null,
      "outputs": [
        {
          "output_type": "stream",
          "name": "stdout",
          "text": [
            "Epoch 1/8\n",
            "\u001b[1m557/557\u001b[0m \u001b[32m━━━━━━━━━━━━━━━━━━━━\u001b[0m\u001b[37m\u001b[0m \u001b[1m50s\u001b[0m 67ms/step - loss: 1.4265 - sparse_categorical_accuracy: 0.4295 - val_loss: 2.3238 - val_sparse_categorical_accuracy: 0.3167\n",
            "Epoch 2/8\n",
            "\u001b[1m557/557\u001b[0m \u001b[32m━━━━━━━━━━━━━━━━━━━━\u001b[0m\u001b[37m\u001b[0m \u001b[1m72s\u001b[0m 59ms/step - loss: 0.3998 - sparse_categorical_accuracy: 0.8715 - val_loss: 2.6579 - val_sparse_categorical_accuracy: 0.3222\n",
            "Epoch 3/8\n",
            "\u001b[1m557/557\u001b[0m \u001b[32m━━━━━━━━━━━━━━━━━━━━\u001b[0m\u001b[37m\u001b[0m \u001b[1m41s\u001b[0m 60ms/step - loss: 0.1968 - sparse_categorical_accuracy: 0.9402 - val_loss: 3.5935 - val_sparse_categorical_accuracy: 0.3074\n",
            "Epoch 4/8\n",
            "\u001b[1m557/557\u001b[0m \u001b[32m━━━━━━━━━━━━━━━━━━━━\u001b[0m\u001b[37m\u001b[0m \u001b[1m53s\u001b[0m 82ms/step - loss: 0.1394 - sparse_categorical_accuracy: 0.9559 - val_loss: 3.9601 - val_sparse_categorical_accuracy: 0.3019\n",
            "Epoch 4: early stopping\n",
            "Restoring model weights from the end of the best epoch: 1.\n"
          ]
        },
        {
          "output_type": "execute_result",
          "data": {
            "text/plain": [
              "<keras.src.callbacks.history.History at 0x77ff354446d0>"
            ]
          },
          "metadata": {},
          "execution_count": 16
        }
      ]
    },
    {
      "cell_type": "code",
      "source": [
        "y_pred_cnn_bilstm = cnn_Bilstm_model.predict(x_test, batch_size = 32)\n",
        "y_pred_cnn_bilstm = np.argmax(y_pred_cnn_bilstm, axis = -1)\n",
        "print(classification_report(y_test, y_pred_cnn_bilstm))"
      ],
      "metadata": {
        "id": "_1HNQFQy_uKV",
        "outputId": "b2ecc0af-be4c-4761-cc02-cdedf2604107",
        "colab": {
          "base_uri": "https://localhost:8080/"
        }
      },
      "execution_count": null,
      "outputs": [
        {
          "output_type": "stream",
          "name": "stdout",
          "text": [
            "\u001b[1m17/17\u001b[0m \u001b[32m━━━━━━━━━━━━━━━━━━━━\u001b[0m\u001b[37m\u001b[0m \u001b[1m1s\u001b[0m 27ms/step\n",
            "              precision    recall  f1-score   support\n",
            "\n",
            "           0       0.22      0.04      0.07        46\n",
            "           1       0.16      0.11      0.13        70\n",
            "           2       0.91      0.40      0.56        25\n",
            "           3       0.36      0.82      0.50       171\n",
            "           4       0.45      0.12      0.19        75\n",
            "           5       0.39      0.20      0.26       106\n",
            "           6       0.20      0.02      0.04        51\n",
            "\n",
            "    accuracy                           0.35       544\n",
            "   macro avg       0.38      0.25      0.25       544\n",
            "weighted avg       0.35      0.35      0.29       544\n",
            "\n"
          ]
        }
      ]
    },
    {
      "cell_type": "markdown",
      "source": [
        "##CNN-BiGRU"
      ],
      "metadata": {
        "id": "xAvEXi9oWULx"
      }
    },
    {
      "cell_type": "code",
      "source": [
        "cnn_BiGRU_model = build_CNN_BiGRU_model()\n",
        "cnn_BiGRU_model.fit(x_train, y_train, validation_data=(x_ev, y_ev), epochs=8, batch_size=32,\n",
        "                 callbacks = [keras.callbacks.EarlyStopping(monitor='val_loss', min_delta=0,\n",
        "                                                            patience=3, verbose=1, mode='auto',\n",
        "                                                            restore_best_weights=True)])"
      ],
      "metadata": {
        "colab": {
          "base_uri": "https://localhost:8080/"
        },
        "id": "JytPtzdIVnUo",
        "outputId": "d828e436-4cb8-4515-f830-a8a6f10e2312"
      },
      "execution_count": null,
      "outputs": [
        {
          "output_type": "stream",
          "name": "stdout",
          "text": [
            "Epoch 1/8\n",
            "\u001b[1m557/557\u001b[0m \u001b[32m━━━━━━━━━━━━━━━━━━━━\u001b[0m\u001b[37m\u001b[0m \u001b[1m48s\u001b[0m 76ms/step - loss: 1.2748 - sparse_categorical_accuracy: 0.5150 - val_loss: 3.1421 - val_sparse_categorical_accuracy: 0.2833\n",
            "Epoch 2/8\n",
            "\u001b[1m557/557\u001b[0m \u001b[32m━━━━━━━━━━━━━━━━━━━━\u001b[0m\u001b[37m\u001b[0m \u001b[1m77s\u001b[0m 69ms/step - loss: 0.2487 - sparse_categorical_accuracy: 0.9244 - val_loss: 3.4614 - val_sparse_categorical_accuracy: 0.3093\n",
            "Epoch 3/8\n",
            "\u001b[1m557/557\u001b[0m \u001b[32m━━━━━━━━━━━━━━━━━━━━\u001b[0m\u001b[37m\u001b[0m \u001b[1m36s\u001b[0m 61ms/step - loss: 0.1013 - sparse_categorical_accuracy: 0.9692 - val_loss: 4.1906 - val_sparse_categorical_accuracy: 0.2685\n",
            "Epoch 4/8\n",
            "\u001b[1m557/557\u001b[0m \u001b[32m━━━━━━━━━━━━━━━━━━━━\u001b[0m\u001b[37m\u001b[0m \u001b[1m42s\u001b[0m 63ms/step - loss: 0.0674 - sparse_categorical_accuracy: 0.9782 - val_loss: 4.8095 - val_sparse_categorical_accuracy: 0.3056\n",
            "Epoch 4: early stopping\n",
            "Restoring model weights from the end of the best epoch: 1.\n"
          ]
        },
        {
          "output_type": "execute_result",
          "data": {
            "text/plain": [
              "<keras.src.callbacks.history.History at 0x7d130db1cb90>"
            ]
          },
          "metadata": {},
          "execution_count": 24
        }
      ]
    },
    {
      "cell_type": "code",
      "source": [
        "y_pred_cnn_bigru = cnn_BiGRU_model.predict(x_test, batch_size = 32)\n",
        "y_pred_cnn_bigru = np.argmax(y_pred_cnn_bigru, axis = -1)\n",
        "print(classification_report(y_test, y_pred_cnn_bigru))"
      ],
      "metadata": {
        "colab": {
          "base_uri": "https://localhost:8080/"
        },
        "id": "quzR6mQiWXN-",
        "outputId": "d1f88556-e237-4e6e-b7a6-6b1879c6af94"
      },
      "execution_count": null,
      "outputs": [
        {
          "output_type": "stream",
          "name": "stdout",
          "text": [
            "\u001b[1m17/17\u001b[0m \u001b[32m━━━━━━━━━━━━━━━━━━━━\u001b[0m\u001b[37m\u001b[0m \u001b[1m1s\u001b[0m 26ms/step\n",
            "              precision    recall  f1-score   support\n",
            "\n",
            "           0       0.12      0.04      0.06        46\n",
            "           1       0.23      0.04      0.07        70\n",
            "           2       0.82      0.36      0.50        25\n",
            "           3       0.36      0.81      0.50       171\n",
            "           4       0.40      0.16      0.23        75\n",
            "           5       0.50      0.16      0.24       106\n",
            "           6       0.12      0.12      0.12        51\n",
            "\n",
            "    accuracy                           0.35       544\n",
            "   macro avg       0.36      0.24      0.25       544\n",
            "weighted avg       0.35      0.35      0.28       544\n",
            "\n"
          ]
        }
      ]
    },
    {
      "cell_type": "markdown",
      "source": [
        "##BiGRU"
      ],
      "metadata": {
        "id": "FyOT10bgJ_55"
      }
    },
    {
      "cell_type": "code",
      "source": [
        "biGRU_model = build_biGRU_model()\n",
        "biGRU_model.fit(x_train, y_train, validation_data=(x_ev, y_ev), epochs=4, batch_size=64,\n",
        "                 callbacks = [keras.callbacks.EarlyStopping(monitor='val_loss', min_delta=0,\n",
        "                                                            patience=3, verbose=1, mode='auto',\n",
        "                                                            restore_best_weights=True)])"
      ],
      "metadata": {
        "id": "jPL-ynGW2m9n",
        "outputId": "554f4fdf-4e0a-4532-9fed-ccc8efa4950e",
        "colab": {
          "base_uri": "https://localhost:8080/"
        }
      },
      "execution_count": null,
      "outputs": [
        {
          "output_type": "stream",
          "name": "stdout",
          "text": [
            "Epoch 1/4\n",
            "\u001b[1m279/279\u001b[0m \u001b[32m━━━━━━━━━━━━━━━━━━━━\u001b[0m\u001b[37m\u001b[0m \u001b[1m43s\u001b[0m 134ms/step - loss: 1.2648 - sparse_categorical_accuracy: 0.5479 - val_loss: 2.9095 - val_sparse_categorical_accuracy: 0.2944\n",
            "Epoch 2/4\n",
            "\u001b[1m279/279\u001b[0m \u001b[32m━━━━━━━━━━━━━━━━━━━━\u001b[0m\u001b[37m\u001b[0m \u001b[1m40s\u001b[0m 132ms/step - loss: 0.2426 - sparse_categorical_accuracy: 0.9233 - val_loss: 3.3534 - val_sparse_categorical_accuracy: 0.2889\n",
            "Epoch 3/4\n",
            "\u001b[1m279/279\u001b[0m \u001b[32m━━━━━━━━━━━━━━━━━━━━\u001b[0m\u001b[37m\u001b[0m \u001b[1m43s\u001b[0m 138ms/step - loss: 0.1227 - sparse_categorical_accuracy: 0.9622 - val_loss: 4.2806 - val_sparse_categorical_accuracy: 0.2870\n",
            "Epoch 4/4\n",
            "\u001b[1m279/279\u001b[0m \u001b[32m━━━━━━━━━━━━━━━━━━━━\u001b[0m\u001b[37m\u001b[0m \u001b[1m40s\u001b[0m 133ms/step - loss: 0.0667 - sparse_categorical_accuracy: 0.9760 - val_loss: 4.6781 - val_sparse_categorical_accuracy: 0.3037\n",
            "Epoch 4: early stopping\n",
            "Restoring model weights from the end of the best epoch: 1.\n"
          ]
        },
        {
          "output_type": "execute_result",
          "data": {
            "text/plain": [
              "<keras.src.callbacks.history.History at 0x79f1e7fbec10>"
            ]
          },
          "metadata": {},
          "execution_count": 32
        }
      ]
    },
    {
      "cell_type": "code",
      "source": [
        "y_pred_biGRU = biGRU_model.predict(x_test, batch_size = 64)\n",
        "y_pred_biGRU = np.argmax(y_pred_biGRU, axis = -1)\n",
        "print(classification_report(y_test, y_pred_biGRU))"
      ],
      "metadata": {
        "id": "UgfWPpa1AjQh",
        "outputId": "dee49e94-1f39-48a5-a98c-9c735c8386fa",
        "colab": {
          "base_uri": "https://localhost:8080/"
        }
      },
      "execution_count": null,
      "outputs": [
        {
          "output_type": "stream",
          "name": "stdout",
          "text": [
            "\u001b[1m9/9\u001b[0m \u001b[32m━━━━━━━━━━━━━━━━━━━━\u001b[0m\u001b[37m\u001b[0m \u001b[1m1s\u001b[0m 95ms/step\n",
            "              precision    recall  f1-score   support\n",
            "\n",
            "           0       0.15      0.04      0.07        46\n",
            "           1       0.24      0.06      0.09        70\n",
            "           2       0.92      0.44      0.59        25\n",
            "           3       0.37      0.87      0.52       171\n",
            "           4       0.40      0.13      0.20        75\n",
            "           5       0.41      0.23      0.29       106\n",
            "           6       0.27      0.08      0.12        51\n",
            "\n",
            "    accuracy                           0.37       544\n",
            "   macro avg       0.39      0.26      0.27       544\n",
            "weighted avg       0.36      0.37      0.30       544\n",
            "\n"
          ]
        }
      ]
    },
    {
      "cell_type": "code",
      "source": [
        "classes = ['Negative', 'Neutral', 'None of the above', 'Opinionated', 'Positive', 'Sarcastic', 'Substantiated']\n",
        "\n",
        "cnf_matrix = confusion_matrix(y_test, y_pred_biGRU)\n",
        "\n",
        "plt.figure(figsize=(7, 7))\n",
        "sns.heatmap(cnf_matrix, annot=True, fmt='d', cmap=plt.cm.Blues,\n",
        "            xticklabels=classes, yticklabels=classes)\n",
        "\n",
        "plt.title('Confusion Matrix')\n",
        "plt.xlabel('Predicted labels')\n",
        "plt.ylabel('True labels')\n",
        "plt.show()"
      ],
      "metadata": {
        "colab": {
          "base_uri": "https://localhost:8080/",
          "height": 755
        },
        "id": "YQaeX0o7QWpC",
        "outputId": "1562527f-fe72-4952-9c05-f01fe7854415"
      },
      "execution_count": null,
      "outputs": [
        {
          "output_type": "display_data",
          "data": {
            "text/plain": [
              "<Figure size 700x700 with 2 Axes>"
            ],
            "image/png": "[encoded data removed]"
          },
          "metadata": {}
        }
      ]
    },
    {
      "cell_type": "code",
      "source": [
        "y_test_pred = biGRU_model.predict(x_test, batch_size = 64)\n",
        "y_test_biGRU = np.argmax(y_test_pred, axis = -1)\n",
        "\n",
        "label_mapping = {'Negative': 0, 'Neutral': 1, 'None of the above': 2, 'Opinionated': 3,\n",
        "                 'Positive': 4, 'Sarcastic': 5, 'Substantiated': 6}\n",
        "reverse_label_mapping = {v: k for k, v in label_mapping.items()}\n",
        "\n",
        "# Step 2: Convert numeric predictions to original labels\n",
        "original_labels = [reverse_label_mapping[label] for label in y_test_biGRU]\n",
        "\n",
        "prediction_df2 = pd.DataFrame({\n",
        "    'Id': df_test['Id'],\n",
        "    'Labels': original_labels\n",
        "})\n",
        "output_file = 'predictionBiGRU.csv'\n",
        "prediction_df2.to_csv(output_file, index=False)"
      ],
      "metadata": {
        "colab": {
          "base_uri": "https://localhost:8080/"
        },
        "id": "L6oX0u3RlHYl",
        "outputId": "de088e2d-2083-4ced-c020-3d4574ddbea7"
      },
      "execution_count": null,
      "outputs": [
        {
          "output_type": "stream",
          "name": "stdout",
          "text": [
            "\u001b[1m9/9\u001b[0m \u001b[32m━━━━━━━━━━━━━━━━━━━━\u001b[0m\u001b[37m\u001b[0m \u001b[1m0s\u001b[0m 51ms/step\n"
          ]
        }
      ]
    }
  ]
}